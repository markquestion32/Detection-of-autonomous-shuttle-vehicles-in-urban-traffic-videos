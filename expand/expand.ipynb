{
 "cells": [
  {
   "cell_type": "code",
   "execution_count": 1,
   "metadata": {},
   "outputs": [
    {
     "name": "stderr",
     "output_type": "stream",
     "text": [
      "Cloning into 'ultralytics'...\n"
     ]
    }
   ],
   "source": [
    "!git clone https://github.com/ultralytics/ultralytics"
   ]
  },
  {
   "cell_type": "code",
   "execution_count": 1,
   "metadata": {},
   "outputs": [
    {
     "name": "stdout",
     "output_type": "stream",
     "text": [
      "c:\\Users\\Lenovo\\Desktop\\expand1\\ultralytics\n"
     ]
    },
    {
     "name": "stderr",
     "output_type": "stream",
     "text": [
      "C:\\Users\\Lenovo\\AppData\\Roaming\\Python\\Python312\\site-packages\\IPython\\core\\magics\\osm.py:417: UserWarning: This is now an optional IPython functionality, setting dhist requires you to install the `pickleshare` library.\n",
      "  self.shell.db['dhist'] = compress_dhist(dhist)[-100:]\n"
     ]
    }
   ],
   "source": [
    "%cd ./ultralytics"
   ]
  },
  {
   "cell_type": "code",
   "execution_count": 3,
   "metadata": {},
   "outputs": [
    {
     "name": "stdout",
     "output_type": "stream",
     "text": [
      "HEAD is now at 2071776a `ultralytics 8.1.23` add YOLOv9-C and E models (#8571)\n"
     ]
    }
   ],
   "source": [
    "!git reset --hard 2071776a3672eb835d7c56cfff22114707765ac"
   ]
  },
  {
   "cell_type": "code",
   "execution_count": 4,
   "metadata": {},
   "outputs": [
    {
     "name": "stderr",
     "output_type": "stream",
     "text": [
      "--2024-07-18 11:22:04--  https://gist.githubusercontent.com/Y-T-G/8f4fc0b78a0a559a06fe84ae4f359e6e/raw/17b1407fefeac86d089c4cf14f174c8bb44948af/add_head.patch\n",
      "Resolving gist.githubusercontent.com (gist.githubusercontent.com)... 185.199.111.133, 185.199.108.133, 185.199.109.133, ...\n",
      "Connecting to gist.githubusercontent.com (gist.githubusercontent.com)|185.199.111.133|:443... connected.\n",
      "HTTP request sent, awaiting response... 200 OK\n",
      "Length: 10458 (10K) [text/plain]\n",
      "Saving to: 'add_head.patch'\n",
      "\n",
      "     0K ..........                                            100% 12,1M=0,001s\n",
      "\n",
      "2024-07-18 11:22:04 (12,1 MB/s) - 'add_head.patch' saved [10458/10458]\n",
      "\n"
     ]
    }
   ],
   "source": [
    "# Download patch\n",
    "!wget https://gist.githubusercontent.com/Y-T-G/8f4fc0b78a0a559a06fe84ae4f359e6e/raw/17b1407fefeac86d089c4cf14f174c8bb44948af/add_head.patch"
   ]
  },
  {
   "cell_type": "code",
   "execution_count": 5,
   "metadata": {},
   "outputs": [],
   "source": [
    "!git apply add_head.patch"
   ]
  },
  {
   "cell_type": "code",
   "execution_count": 6,
   "metadata": {},
   "outputs": [
    {
     "name": "stdout",
     "output_type": "stream",
     "text": [
      "Looking in indexes: https://pypi.org/simple, https://pypi.ngc.nvidia.com\n",
      "Obtaining file:///C:/Users/Lenovo/Desktop/expand1/ultralytics\n",
      "  Installing build dependencies: started\n",
      "  Installing build dependencies: finished with status 'done'\n",
      "  Checking if build backend supports build_editable: started\n",
      "  Checking if build backend supports build_editable: finished with status 'done'\n",
      "  Getting requirements to build editable: started\n",
      "  Getting requirements to build editable: finished with status 'done'\n",
      "  Preparing editable metadata (pyproject.toml): started\n",
      "  Preparing editable metadata (pyproject.toml): finished with status 'done'\n",
      "Requirement already satisfied: matplotlib>=3.3.0 in c:\\users\\lenovo\\appdata\\local\\programs\\python\\python312\\lib\\site-packages (from ultralytics==8.1.23) (3.9.0)\n",
      "Requirement already satisfied: opencv-python>=4.6.0 in c:\\users\\lenovo\\appdata\\local\\programs\\python\\python312\\lib\\site-packages (from ultralytics==8.1.23) (4.9.0.80)\n",
      "Requirement already satisfied: pillow>=7.1.2 in c:\\users\\lenovo\\appdata\\local\\programs\\python\\python312\\lib\\site-packages (from ultralytics==8.1.23) (10.3.0)\n",
      "Requirement already satisfied: pyyaml>=5.3.1 in c:\\users\\lenovo\\appdata\\local\\programs\\python\\python312\\lib\\site-packages (from ultralytics==8.1.23) (6.0.1)\n",
      "Requirement already satisfied: requests>=2.23.0 in c:\\users\\lenovo\\appdata\\local\\programs\\python\\python312\\lib\\site-packages (from ultralytics==8.1.23) (2.32.3)\n",
      "Requirement already satisfied: scipy>=1.4.1 in c:\\users\\lenovo\\appdata\\local\\programs\\python\\python312\\lib\\site-packages (from ultralytics==8.1.23) (1.13.0)\n",
      "Requirement already satisfied: torch>=1.8.0 in c:\\users\\lenovo\\appdata\\local\\programs\\python\\python312\\lib\\site-packages (from ultralytics==8.1.23) (2.3.1+cu118)\n",
      "Requirement already satisfied: torchvision>=0.9.0 in c:\\users\\lenovo\\appdata\\local\\programs\\python\\python312\\lib\\site-packages (from ultralytics==8.1.23) (0.18.1+cu118)\n",
      "Requirement already satisfied: tqdm>=4.64.0 in c:\\users\\lenovo\\appdata\\local\\programs\\python\\python312\\lib\\site-packages (from ultralytics==8.1.23) (4.66.4)\n",
      "Requirement already satisfied: psutil in c:\\users\\lenovo\\appdata\\roaming\\python\\python312\\site-packages (from ultralytics==8.1.23) (5.9.8)\n",
      "Requirement already satisfied: py-cpuinfo in c:\\users\\lenovo\\appdata\\local\\programs\\python\\python312\\lib\\site-packages (from ultralytics==8.1.23) (9.0.0)\n",
      "Requirement already satisfied: thop>=0.1.1 in c:\\users\\lenovo\\appdata\\local\\programs\\python\\python312\\lib\\site-packages (from ultralytics==8.1.23) (0.1.1.post2209072238)\n",
      "Requirement already satisfied: pandas>=1.1.4 in c:\\users\\lenovo\\appdata\\local\\programs\\python\\python312\\lib\\site-packages (from ultralytics==8.1.23) (2.2.2)\n",
      "Requirement already satisfied: seaborn>=0.11.0 in c:\\users\\lenovo\\appdata\\local\\programs\\python\\python312\\lib\\site-packages (from ultralytics==8.1.23) (0.13.2)\n",
      "Requirement already satisfied: contourpy>=1.0.1 in c:\\users\\lenovo\\appdata\\local\\programs\\python\\python312\\lib\\site-packages (from matplotlib>=3.3.0->ultralytics==8.1.23) (1.2.1)\n",
      "Requirement already satisfied: cycler>=0.10 in c:\\users\\lenovo\\appdata\\local\\programs\\python\\python312\\lib\\site-packages (from matplotlib>=3.3.0->ultralytics==8.1.23) (0.10.0)\n",
      "Requirement already satisfied: fonttools>=4.22.0 in c:\\users\\lenovo\\appdata\\local\\programs\\python\\python312\\lib\\site-packages (from matplotlib>=3.3.0->ultralytics==8.1.23) (4.51.0)\n",
      "Requirement already satisfied: kiwisolver>=1.3.1 in c:\\users\\lenovo\\appdata\\local\\programs\\python\\python312\\lib\\site-packages (from matplotlib>=3.3.0->ultralytics==8.1.23) (1.4.5)\n",
      "Requirement already satisfied: numpy>=1.23 in c:\\users\\lenovo\\appdata\\local\\programs\\python\\python312\\lib\\site-packages (from matplotlib>=3.3.0->ultralytics==8.1.23) (1.26.4)\n",
      "Requirement already satisfied: packaging>=20.0 in c:\\users\\lenovo\\appdata\\roaming\\python\\python312\\site-packages (from matplotlib>=3.3.0->ultralytics==8.1.23) (24.0)\n",
      "Requirement already satisfied: pyparsing>=2.3.1 in c:\\users\\lenovo\\appdata\\local\\programs\\python\\python312\\lib\\site-packages (from matplotlib>=3.3.0->ultralytics==8.1.23) (3.1.2)\n",
      "Requirement already satisfied: python-dateutil>=2.7 in c:\\users\\lenovo\\appdata\\roaming\\python\\python312\\site-packages (from matplotlib>=3.3.0->ultralytics==8.1.23) (2.9.0.post0)\n",
      "Requirement already satisfied: pytz>=2020.1 in c:\\users\\lenovo\\appdata\\local\\programs\\python\\python312\\lib\\site-packages (from pandas>=1.1.4->ultralytics==8.1.23) (2023.4)\n",
      "Requirement already satisfied: tzdata>=2022.7 in c:\\users\\lenovo\\appdata\\local\\programs\\python\\python312\\lib\\site-packages (from pandas>=1.1.4->ultralytics==8.1.23) (2024.1)\n",
      "Requirement already satisfied: charset-normalizer<4,>=2 in c:\\users\\lenovo\\appdata\\local\\programs\\python\\python312\\lib\\site-packages (from requests>=2.23.0->ultralytics==8.1.23) (3.3.2)\n",
      "Requirement already satisfied: idna<4,>=2.5 in c:\\users\\lenovo\\appdata\\local\\programs\\python\\python312\\lib\\site-packages (from requests>=2.23.0->ultralytics==8.1.23) (2.10)\n",
      "Requirement already satisfied: urllib3<3,>=1.21.1 in c:\\users\\lenovo\\appdata\\local\\programs\\python\\python312\\lib\\site-packages (from requests>=2.23.0->ultralytics==8.1.23) (1.26.19)\n",
      "Requirement already satisfied: certifi>=2017.4.17 in c:\\users\\lenovo\\appdata\\local\\programs\\python\\python312\\lib\\site-packages (from requests>=2.23.0->ultralytics==8.1.23) (2023.7.22)\n",
      "Requirement already satisfied: filelock in c:\\users\\lenovo\\appdata\\local\\programs\\python\\python312\\lib\\site-packages (from torch>=1.8.0->ultralytics==8.1.23) (3.14.0)\n",
      "Requirement already satisfied: typing-extensions>=4.8.0 in c:\\users\\lenovo\\appdata\\local\\programs\\python\\python312\\lib\\site-packages (from torch>=1.8.0->ultralytics==8.1.23) (4.11.0)\n",
      "Requirement already satisfied: sympy in c:\\users\\lenovo\\appdata\\local\\programs\\python\\python312\\lib\\site-packages (from torch>=1.8.0->ultralytics==8.1.23) (1.12)\n",
      "Requirement already satisfied: networkx in c:\\users\\lenovo\\appdata\\local\\programs\\python\\python312\\lib\\site-packages (from torch>=1.8.0->ultralytics==8.1.23) (3.3)\n",
      "Requirement already satisfied: jinja2 in c:\\users\\lenovo\\appdata\\local\\programs\\python\\python312\\lib\\site-packages (from torch>=1.8.0->ultralytics==8.1.23) (3.1.4)\n",
      "Requirement already satisfied: fsspec in c:\\users\\lenovo\\appdata\\local\\programs\\python\\python312\\lib\\site-packages (from torch>=1.8.0->ultralytics==8.1.23) (2024.5.0)\n",
      "Requirement already satisfied: mkl<=2021.4.0,>=2021.1.1 in c:\\users\\lenovo\\appdata\\local\\programs\\python\\python312\\lib\\site-packages (from torch>=1.8.0->ultralytics==8.1.23) (2021.4.0)\n",
      "Requirement already satisfied: colorama in c:\\users\\lenovo\\appdata\\roaming\\python\\python312\\site-packages (from tqdm>=4.64.0->ultralytics==8.1.23) (0.4.6)\n",
      "Requirement already satisfied: six in c:\\users\\lenovo\\appdata\\roaming\\python\\python312\\site-packages (from cycler>=0.10->matplotlib>=3.3.0->ultralytics==8.1.23) (1.16.0)\n",
      "Requirement already satisfied: intel-openmp==2021.* in c:\\users\\lenovo\\appdata\\local\\programs\\python\\python312\\lib\\site-packages (from mkl<=2021.4.0,>=2021.1.1->torch>=1.8.0->ultralytics==8.1.23) (2021.4.0)\n",
      "Requirement already satisfied: tbb==2021.* in c:\\users\\lenovo\\appdata\\local\\programs\\python\\python312\\lib\\site-packages (from mkl<=2021.4.0,>=2021.1.1->torch>=1.8.0->ultralytics==8.1.23) (2021.12.0)\n",
      "Requirement already satisfied: MarkupSafe>=2.0 in c:\\users\\lenovo\\appdata\\local\\programs\\python\\python312\\lib\\site-packages (from jinja2->torch>=1.8.0->ultralytics==8.1.23) (2.1.5)\n",
      "Requirement already satisfied: mpmath>=0.19 in c:\\users\\lenovo\\appdata\\local\\programs\\python\\python312\\lib\\site-packages (from sympy->torch>=1.8.0->ultralytics==8.1.23) (1.3.0)\n",
      "Building wheels for collected packages: ultralytics\n",
      "  Building editable for ultralytics (pyproject.toml): started\n",
      "  Building editable for ultralytics (pyproject.toml): finished with status 'done'\n",
      "  Created wheel for ultralytics: filename=ultralytics-8.1.23-0.editable-py3-none-any.whl size=23081 sha256=c87577694197482c13b5c55aa613baf4b8d88cafab336fe4139dac7c71c67edd\n",
      "  Stored in directory: C:\\Users\\Lenovo\\AppData\\Local\\Temp\\pip-ephem-wheel-cache-4lpdt9h0\\wheels\\0b\\c0\\7c\\532134c092d79ee6448f2b726a496f38e95b07b16657d700a1\n",
      "Successfully built ultralytics\n",
      "Installing collected packages: ultralytics\n",
      "  Attempting uninstall: ultralytics\n",
      "    Found existing installation: ultralytics 8.1.23\n",
      "    Uninstalling ultralytics-8.1.23:\n",
      "      Successfully uninstalled ultralytics-8.1.23\n",
      "Successfully installed ultralytics-8.1.23\n"
     ]
    },
    {
     "name": "stderr",
     "output_type": "stream",
     "text": [
      "\n",
      "[notice] A new release of pip is available: 24.1.1 -> 24.1.2\n",
      "[notice] To update, run: python.exe -m pip install --upgrade pip\n"
     ]
    }
   ],
   "source": [
    "!pip install -e ."
   ]
  },
  {
   "cell_type": "markdown",
   "metadata": {},
   "source": [
    "# Roboflow"
   ]
  },
  {
   "cell_type": "code",
   "execution_count": null,
   "metadata": {},
   "outputs": [],
   "source": [
    "!pip install roboflow"
   ]
  },
  {
   "cell_type": "code",
   "execution_count": null,
   "metadata": {},
   "outputs": [],
   "source": [
    "from roboflow import Roboflow\n",
    "rf = Roboflow(api_key=\"hga92FJ7iHcjjXThQJ5I\")\n",
    "project = rf.workspace(\"project-n3wam\").project(\"project-ttd5y\")\n",
    "version = project.version(1)\n",
    "dataset = version.download(\"yolov8\")\n"
   ]
  },
  {
   "cell_type": "code",
   "execution_count": null,
   "metadata": {},
   "outputs": [],
   "source": [
    "!mkdir -p /datasets/Project-1\n",
    "!mv Project-1/** /datasets/Project-1\n",
    "!mv /datasets/Project-1/data.yaml /content/datasets"
   ]
  },
  {
   "cell_type": "markdown",
   "metadata": {},
   "source": [
    "# Train the model with frozen COCO backbone"
   ]
  },
  {
   "cell_type": "code",
   "execution_count": 2,
   "metadata": {},
   "outputs": [
    {
     "data": {
      "text/plain": [
       "{'status': 'ok', 'restart': True}"
      ]
     },
     "execution_count": 2,
     "metadata": {},
     "output_type": "execute_result"
    },
    {
     "ename": "",
     "evalue": "",
     "output_type": "error",
     "traceback": [
      "\u001b[1;31mThe Kernel crashed while executing code in the current cell or a previous cell. \n",
      "\u001b[1;31mPlease review the code in the cell(s) to identify a possible cause of the failure. \n",
      "\u001b[1;31mClick <a href='https://aka.ms/vscodeJupyterKernelCrash'>here</a> for more info. \n",
      "\u001b[1;31mView Jupyter <a href='command:jupyter.viewOutput'>log</a> for further details."
     ]
    }
   ],
   "source": [
    "# Reset runtime\n",
    "import IPython\n",
    "IPython.Application.instance().kernel.do_shutdown(True)\n",
    "\n",
    "# Wait for restart and then continue"
   ]
  },
  {
   "cell_type": "code",
   "execution_count": 1,
   "metadata": {},
   "outputs": [
    {
     "name": "stdout",
     "output_type": "stream",
     "text": [
      "c:\\Users\\Lenovo\\Desktop\\expand1\\ultralytics\n"
     ]
    },
    {
     "name": "stderr",
     "output_type": "stream",
     "text": [
      "C:\\Users\\Lenovo\\AppData\\Roaming\\Python\\Python312\\site-packages\\IPython\\core\\magics\\osm.py:417: UserWarning: This is now an optional IPython functionality, setting dhist requires you to install the `pickleshare` library.\n",
      "  self.shell.db['dhist'] = compress_dhist(dhist)[-100:]\n"
     ]
    }
   ],
   "source": [
    "%cd ./ultralytics"
   ]
  },
  {
   "cell_type": "code",
   "execution_count": 2,
   "metadata": {},
   "outputs": [],
   "source": [
    "from ultralytics import YOLO\n",
    "import torch\n",
    "import copy\n"
   ]
  },
  {
   "cell_type": "code",
   "execution_count": 3,
   "metadata": {},
   "outputs": [],
   "source": [
    "model = YOLO(\"yolov8x.pt\")  # load a pretrained model (recommended for training)"
   ]
  },
  {
   "cell_type": "code",
   "execution_count": 4,
   "metadata": {},
   "outputs": [],
   "source": [
    "# Keep a copy of old state dict for sanity check\n",
    "old_dict = copy.deepcopy(model.state_dict())"
   ]
  },
  {
   "cell_type": "code",
   "execution_count": 5,
   "metadata": {},
   "outputs": [
    {
     "data": {
      "text/plain": [
       "odict_keys(['model.model.0.conv.weight', 'model.model.0.bn.weight', 'model.model.0.bn.bias', 'model.model.0.bn.running_mean', 'model.model.0.bn.running_var', 'model.model.0.bn.num_batches_tracked', 'model.model.1.conv.weight', 'model.model.1.bn.weight', 'model.model.1.bn.bias', 'model.model.1.bn.running_mean', 'model.model.1.bn.running_var', 'model.model.1.bn.num_batches_tracked', 'model.model.2.cv1.conv.weight', 'model.model.2.cv1.bn.weight', 'model.model.2.cv1.bn.bias', 'model.model.2.cv1.bn.running_mean', 'model.model.2.cv1.bn.running_var', 'model.model.2.cv1.bn.num_batches_tracked', 'model.model.2.cv2.conv.weight', 'model.model.2.cv2.bn.weight', 'model.model.2.cv2.bn.bias', 'model.model.2.cv2.bn.running_mean', 'model.model.2.cv2.bn.running_var', 'model.model.2.cv2.bn.num_batches_tracked', 'model.model.2.m.0.cv1.conv.weight', 'model.model.2.m.0.cv1.bn.weight', 'model.model.2.m.0.cv1.bn.bias', 'model.model.2.m.0.cv1.bn.running_mean', 'model.model.2.m.0.cv1.bn.running_var', 'model.model.2.m.0.cv1.bn.num_batches_tracked', 'model.model.2.m.0.cv2.conv.weight', 'model.model.2.m.0.cv2.bn.weight', 'model.model.2.m.0.cv2.bn.bias', 'model.model.2.m.0.cv2.bn.running_mean', 'model.model.2.m.0.cv2.bn.running_var', 'model.model.2.m.0.cv2.bn.num_batches_tracked', 'model.model.2.m.1.cv1.conv.weight', 'model.model.2.m.1.cv1.bn.weight', 'model.model.2.m.1.cv1.bn.bias', 'model.model.2.m.1.cv1.bn.running_mean', 'model.model.2.m.1.cv1.bn.running_var', 'model.model.2.m.1.cv1.bn.num_batches_tracked', 'model.model.2.m.1.cv2.conv.weight', 'model.model.2.m.1.cv2.bn.weight', 'model.model.2.m.1.cv2.bn.bias', 'model.model.2.m.1.cv2.bn.running_mean', 'model.model.2.m.1.cv2.bn.running_var', 'model.model.2.m.1.cv2.bn.num_batches_tracked', 'model.model.2.m.2.cv1.conv.weight', 'model.model.2.m.2.cv1.bn.weight', 'model.model.2.m.2.cv1.bn.bias', 'model.model.2.m.2.cv1.bn.running_mean', 'model.model.2.m.2.cv1.bn.running_var', 'model.model.2.m.2.cv1.bn.num_batches_tracked', 'model.model.2.m.2.cv2.conv.weight', 'model.model.2.m.2.cv2.bn.weight', 'model.model.2.m.2.cv2.bn.bias', 'model.model.2.m.2.cv2.bn.running_mean', 'model.model.2.m.2.cv2.bn.running_var', 'model.model.2.m.2.cv2.bn.num_batches_tracked', 'model.model.3.conv.weight', 'model.model.3.bn.weight', 'model.model.3.bn.bias', 'model.model.3.bn.running_mean', 'model.model.3.bn.running_var', 'model.model.3.bn.num_batches_tracked', 'model.model.4.cv1.conv.weight', 'model.model.4.cv1.bn.weight', 'model.model.4.cv1.bn.bias', 'model.model.4.cv1.bn.running_mean', 'model.model.4.cv1.bn.running_var', 'model.model.4.cv1.bn.num_batches_tracked', 'model.model.4.cv2.conv.weight', 'model.model.4.cv2.bn.weight', 'model.model.4.cv2.bn.bias', 'model.model.4.cv2.bn.running_mean', 'model.model.4.cv2.bn.running_var', 'model.model.4.cv2.bn.num_batches_tracked', 'model.model.4.m.0.cv1.conv.weight', 'model.model.4.m.0.cv1.bn.weight', 'model.model.4.m.0.cv1.bn.bias', 'model.model.4.m.0.cv1.bn.running_mean', 'model.model.4.m.0.cv1.bn.running_var', 'model.model.4.m.0.cv1.bn.num_batches_tracked', 'model.model.4.m.0.cv2.conv.weight', 'model.model.4.m.0.cv2.bn.weight', 'model.model.4.m.0.cv2.bn.bias', 'model.model.4.m.0.cv2.bn.running_mean', 'model.model.4.m.0.cv2.bn.running_var', 'model.model.4.m.0.cv2.bn.num_batches_tracked', 'model.model.4.m.1.cv1.conv.weight', 'model.model.4.m.1.cv1.bn.weight', 'model.model.4.m.1.cv1.bn.bias', 'model.model.4.m.1.cv1.bn.running_mean', 'model.model.4.m.1.cv1.bn.running_var', 'model.model.4.m.1.cv1.bn.num_batches_tracked', 'model.model.4.m.1.cv2.conv.weight', 'model.model.4.m.1.cv2.bn.weight', 'model.model.4.m.1.cv2.bn.bias', 'model.model.4.m.1.cv2.bn.running_mean', 'model.model.4.m.1.cv2.bn.running_var', 'model.model.4.m.1.cv2.bn.num_batches_tracked', 'model.model.4.m.2.cv1.conv.weight', 'model.model.4.m.2.cv1.bn.weight', 'model.model.4.m.2.cv1.bn.bias', 'model.model.4.m.2.cv1.bn.running_mean', 'model.model.4.m.2.cv1.bn.running_var', 'model.model.4.m.2.cv1.bn.num_batches_tracked', 'model.model.4.m.2.cv2.conv.weight', 'model.model.4.m.2.cv2.bn.weight', 'model.model.4.m.2.cv2.bn.bias', 'model.model.4.m.2.cv2.bn.running_mean', 'model.model.4.m.2.cv2.bn.running_var', 'model.model.4.m.2.cv2.bn.num_batches_tracked', 'model.model.4.m.3.cv1.conv.weight', 'model.model.4.m.3.cv1.bn.weight', 'model.model.4.m.3.cv1.bn.bias', 'model.model.4.m.3.cv1.bn.running_mean', 'model.model.4.m.3.cv1.bn.running_var', 'model.model.4.m.3.cv1.bn.num_batches_tracked', 'model.model.4.m.3.cv2.conv.weight', 'model.model.4.m.3.cv2.bn.weight', 'model.model.4.m.3.cv2.bn.bias', 'model.model.4.m.3.cv2.bn.running_mean', 'model.model.4.m.3.cv2.bn.running_var', 'model.model.4.m.3.cv2.bn.num_batches_tracked', 'model.model.4.m.4.cv1.conv.weight', 'model.model.4.m.4.cv1.bn.weight', 'model.model.4.m.4.cv1.bn.bias', 'model.model.4.m.4.cv1.bn.running_mean', 'model.model.4.m.4.cv1.bn.running_var', 'model.model.4.m.4.cv1.bn.num_batches_tracked', 'model.model.4.m.4.cv2.conv.weight', 'model.model.4.m.4.cv2.bn.weight', 'model.model.4.m.4.cv2.bn.bias', 'model.model.4.m.4.cv2.bn.running_mean', 'model.model.4.m.4.cv2.bn.running_var', 'model.model.4.m.4.cv2.bn.num_batches_tracked', 'model.model.4.m.5.cv1.conv.weight', 'model.model.4.m.5.cv1.bn.weight', 'model.model.4.m.5.cv1.bn.bias', 'model.model.4.m.5.cv1.bn.running_mean', 'model.model.4.m.5.cv1.bn.running_var', 'model.model.4.m.5.cv1.bn.num_batches_tracked', 'model.model.4.m.5.cv2.conv.weight', 'model.model.4.m.5.cv2.bn.weight', 'model.model.4.m.5.cv2.bn.bias', 'model.model.4.m.5.cv2.bn.running_mean', 'model.model.4.m.5.cv2.bn.running_var', 'model.model.4.m.5.cv2.bn.num_batches_tracked', 'model.model.5.conv.weight', 'model.model.5.bn.weight', 'model.model.5.bn.bias', 'model.model.5.bn.running_mean', 'model.model.5.bn.running_var', 'model.model.5.bn.num_batches_tracked', 'model.model.6.cv1.conv.weight', 'model.model.6.cv1.bn.weight', 'model.model.6.cv1.bn.bias', 'model.model.6.cv1.bn.running_mean', 'model.model.6.cv1.bn.running_var', 'model.model.6.cv1.bn.num_batches_tracked', 'model.model.6.cv2.conv.weight', 'model.model.6.cv2.bn.weight', 'model.model.6.cv2.bn.bias', 'model.model.6.cv2.bn.running_mean', 'model.model.6.cv2.bn.running_var', 'model.model.6.cv2.bn.num_batches_tracked', 'model.model.6.m.0.cv1.conv.weight', 'model.model.6.m.0.cv1.bn.weight', 'model.model.6.m.0.cv1.bn.bias', 'model.model.6.m.0.cv1.bn.running_mean', 'model.model.6.m.0.cv1.bn.running_var', 'model.model.6.m.0.cv1.bn.num_batches_tracked', 'model.model.6.m.0.cv2.conv.weight', 'model.model.6.m.0.cv2.bn.weight', 'model.model.6.m.0.cv2.bn.bias', 'model.model.6.m.0.cv2.bn.running_mean', 'model.model.6.m.0.cv2.bn.running_var', 'model.model.6.m.0.cv2.bn.num_batches_tracked', 'model.model.6.m.1.cv1.conv.weight', 'model.model.6.m.1.cv1.bn.weight', 'model.model.6.m.1.cv1.bn.bias', 'model.model.6.m.1.cv1.bn.running_mean', 'model.model.6.m.1.cv1.bn.running_var', 'model.model.6.m.1.cv1.bn.num_batches_tracked', 'model.model.6.m.1.cv2.conv.weight', 'model.model.6.m.1.cv2.bn.weight', 'model.model.6.m.1.cv2.bn.bias', 'model.model.6.m.1.cv2.bn.running_mean', 'model.model.6.m.1.cv2.bn.running_var', 'model.model.6.m.1.cv2.bn.num_batches_tracked', 'model.model.6.m.2.cv1.conv.weight', 'model.model.6.m.2.cv1.bn.weight', 'model.model.6.m.2.cv1.bn.bias', 'model.model.6.m.2.cv1.bn.running_mean', 'model.model.6.m.2.cv1.bn.running_var', 'model.model.6.m.2.cv1.bn.num_batches_tracked', 'model.model.6.m.2.cv2.conv.weight', 'model.model.6.m.2.cv2.bn.weight', 'model.model.6.m.2.cv2.bn.bias', 'model.model.6.m.2.cv2.bn.running_mean', 'model.model.6.m.2.cv2.bn.running_var', 'model.model.6.m.2.cv2.bn.num_batches_tracked', 'model.model.6.m.3.cv1.conv.weight', 'model.model.6.m.3.cv1.bn.weight', 'model.model.6.m.3.cv1.bn.bias', 'model.model.6.m.3.cv1.bn.running_mean', 'model.model.6.m.3.cv1.bn.running_var', 'model.model.6.m.3.cv1.bn.num_batches_tracked', 'model.model.6.m.3.cv2.conv.weight', 'model.model.6.m.3.cv2.bn.weight', 'model.model.6.m.3.cv2.bn.bias', 'model.model.6.m.3.cv2.bn.running_mean', 'model.model.6.m.3.cv2.bn.running_var', 'model.model.6.m.3.cv2.bn.num_batches_tracked', 'model.model.6.m.4.cv1.conv.weight', 'model.model.6.m.4.cv1.bn.weight', 'model.model.6.m.4.cv1.bn.bias', 'model.model.6.m.4.cv1.bn.running_mean', 'model.model.6.m.4.cv1.bn.running_var', 'model.model.6.m.4.cv1.bn.num_batches_tracked', 'model.model.6.m.4.cv2.conv.weight', 'model.model.6.m.4.cv2.bn.weight', 'model.model.6.m.4.cv2.bn.bias', 'model.model.6.m.4.cv2.bn.running_mean', 'model.model.6.m.4.cv2.bn.running_var', 'model.model.6.m.4.cv2.bn.num_batches_tracked', 'model.model.6.m.5.cv1.conv.weight', 'model.model.6.m.5.cv1.bn.weight', 'model.model.6.m.5.cv1.bn.bias', 'model.model.6.m.5.cv1.bn.running_mean', 'model.model.6.m.5.cv1.bn.running_var', 'model.model.6.m.5.cv1.bn.num_batches_tracked', 'model.model.6.m.5.cv2.conv.weight', 'model.model.6.m.5.cv2.bn.weight', 'model.model.6.m.5.cv2.bn.bias', 'model.model.6.m.5.cv2.bn.running_mean', 'model.model.6.m.5.cv2.bn.running_var', 'model.model.6.m.5.cv2.bn.num_batches_tracked', 'model.model.7.conv.weight', 'model.model.7.bn.weight', 'model.model.7.bn.bias', 'model.model.7.bn.running_mean', 'model.model.7.bn.running_var', 'model.model.7.bn.num_batches_tracked', 'model.model.8.cv1.conv.weight', 'model.model.8.cv1.bn.weight', 'model.model.8.cv1.bn.bias', 'model.model.8.cv1.bn.running_mean', 'model.model.8.cv1.bn.running_var', 'model.model.8.cv1.bn.num_batches_tracked', 'model.model.8.cv2.conv.weight', 'model.model.8.cv2.bn.weight', 'model.model.8.cv2.bn.bias', 'model.model.8.cv2.bn.running_mean', 'model.model.8.cv2.bn.running_var', 'model.model.8.cv2.bn.num_batches_tracked', 'model.model.8.m.0.cv1.conv.weight', 'model.model.8.m.0.cv1.bn.weight', 'model.model.8.m.0.cv1.bn.bias', 'model.model.8.m.0.cv1.bn.running_mean', 'model.model.8.m.0.cv1.bn.running_var', 'model.model.8.m.0.cv1.bn.num_batches_tracked', 'model.model.8.m.0.cv2.conv.weight', 'model.model.8.m.0.cv2.bn.weight', 'model.model.8.m.0.cv2.bn.bias', 'model.model.8.m.0.cv2.bn.running_mean', 'model.model.8.m.0.cv2.bn.running_var', 'model.model.8.m.0.cv2.bn.num_batches_tracked', 'model.model.8.m.1.cv1.conv.weight', 'model.model.8.m.1.cv1.bn.weight', 'model.model.8.m.1.cv1.bn.bias', 'model.model.8.m.1.cv1.bn.running_mean', 'model.model.8.m.1.cv1.bn.running_var', 'model.model.8.m.1.cv1.bn.num_batches_tracked', 'model.model.8.m.1.cv2.conv.weight', 'model.model.8.m.1.cv2.bn.weight', 'model.model.8.m.1.cv2.bn.bias', 'model.model.8.m.1.cv2.bn.running_mean', 'model.model.8.m.1.cv2.bn.running_var', 'model.model.8.m.1.cv2.bn.num_batches_tracked', 'model.model.8.m.2.cv1.conv.weight', 'model.model.8.m.2.cv1.bn.weight', 'model.model.8.m.2.cv1.bn.bias', 'model.model.8.m.2.cv1.bn.running_mean', 'model.model.8.m.2.cv1.bn.running_var', 'model.model.8.m.2.cv1.bn.num_batches_tracked', 'model.model.8.m.2.cv2.conv.weight', 'model.model.8.m.2.cv2.bn.weight', 'model.model.8.m.2.cv2.bn.bias', 'model.model.8.m.2.cv2.bn.running_mean', 'model.model.8.m.2.cv2.bn.running_var', 'model.model.8.m.2.cv2.bn.num_batches_tracked', 'model.model.9.cv1.conv.weight', 'model.model.9.cv1.bn.weight', 'model.model.9.cv1.bn.bias', 'model.model.9.cv1.bn.running_mean', 'model.model.9.cv1.bn.running_var', 'model.model.9.cv1.bn.num_batches_tracked', 'model.model.9.cv2.conv.weight', 'model.model.9.cv2.bn.weight', 'model.model.9.cv2.bn.bias', 'model.model.9.cv2.bn.running_mean', 'model.model.9.cv2.bn.running_var', 'model.model.9.cv2.bn.num_batches_tracked', 'model.model.12.cv1.conv.weight', 'model.model.12.cv1.bn.weight', 'model.model.12.cv1.bn.bias', 'model.model.12.cv1.bn.running_mean', 'model.model.12.cv1.bn.running_var', 'model.model.12.cv1.bn.num_batches_tracked', 'model.model.12.cv2.conv.weight', 'model.model.12.cv2.bn.weight', 'model.model.12.cv2.bn.bias', 'model.model.12.cv2.bn.running_mean', 'model.model.12.cv2.bn.running_var', 'model.model.12.cv2.bn.num_batches_tracked', 'model.model.12.m.0.cv1.conv.weight', 'model.model.12.m.0.cv1.bn.weight', 'model.model.12.m.0.cv1.bn.bias', 'model.model.12.m.0.cv1.bn.running_mean', 'model.model.12.m.0.cv1.bn.running_var', 'model.model.12.m.0.cv1.bn.num_batches_tracked', 'model.model.12.m.0.cv2.conv.weight', 'model.model.12.m.0.cv2.bn.weight', 'model.model.12.m.0.cv2.bn.bias', 'model.model.12.m.0.cv2.bn.running_mean', 'model.model.12.m.0.cv2.bn.running_var', 'model.model.12.m.0.cv2.bn.num_batches_tracked', 'model.model.12.m.1.cv1.conv.weight', 'model.model.12.m.1.cv1.bn.weight', 'model.model.12.m.1.cv1.bn.bias', 'model.model.12.m.1.cv1.bn.running_mean', 'model.model.12.m.1.cv1.bn.running_var', 'model.model.12.m.1.cv1.bn.num_batches_tracked', 'model.model.12.m.1.cv2.conv.weight', 'model.model.12.m.1.cv2.bn.weight', 'model.model.12.m.1.cv2.bn.bias', 'model.model.12.m.1.cv2.bn.running_mean', 'model.model.12.m.1.cv2.bn.running_var', 'model.model.12.m.1.cv2.bn.num_batches_tracked', 'model.model.12.m.2.cv1.conv.weight', 'model.model.12.m.2.cv1.bn.weight', 'model.model.12.m.2.cv1.bn.bias', 'model.model.12.m.2.cv1.bn.running_mean', 'model.model.12.m.2.cv1.bn.running_var', 'model.model.12.m.2.cv1.bn.num_batches_tracked', 'model.model.12.m.2.cv2.conv.weight', 'model.model.12.m.2.cv2.bn.weight', 'model.model.12.m.2.cv2.bn.bias', 'model.model.12.m.2.cv2.bn.running_mean', 'model.model.12.m.2.cv2.bn.running_var', 'model.model.12.m.2.cv2.bn.num_batches_tracked', 'model.model.15.cv1.conv.weight', 'model.model.15.cv1.bn.weight', 'model.model.15.cv1.bn.bias', 'model.model.15.cv1.bn.running_mean', 'model.model.15.cv1.bn.running_var', 'model.model.15.cv1.bn.num_batches_tracked', 'model.model.15.cv2.conv.weight', 'model.model.15.cv2.bn.weight', 'model.model.15.cv2.bn.bias', 'model.model.15.cv2.bn.running_mean', 'model.model.15.cv2.bn.running_var', 'model.model.15.cv2.bn.num_batches_tracked', 'model.model.15.m.0.cv1.conv.weight', 'model.model.15.m.0.cv1.bn.weight', 'model.model.15.m.0.cv1.bn.bias', 'model.model.15.m.0.cv1.bn.running_mean', 'model.model.15.m.0.cv1.bn.running_var', 'model.model.15.m.0.cv1.bn.num_batches_tracked', 'model.model.15.m.0.cv2.conv.weight', 'model.model.15.m.0.cv2.bn.weight', 'model.model.15.m.0.cv2.bn.bias', 'model.model.15.m.0.cv2.bn.running_mean', 'model.model.15.m.0.cv2.bn.running_var', 'model.model.15.m.0.cv2.bn.num_batches_tracked', 'model.model.15.m.1.cv1.conv.weight', 'model.model.15.m.1.cv1.bn.weight', 'model.model.15.m.1.cv1.bn.bias', 'model.model.15.m.1.cv1.bn.running_mean', 'model.model.15.m.1.cv1.bn.running_var', 'model.model.15.m.1.cv1.bn.num_batches_tracked', 'model.model.15.m.1.cv2.conv.weight', 'model.model.15.m.1.cv2.bn.weight', 'model.model.15.m.1.cv2.bn.bias', 'model.model.15.m.1.cv2.bn.running_mean', 'model.model.15.m.1.cv2.bn.running_var', 'model.model.15.m.1.cv2.bn.num_batches_tracked', 'model.model.15.m.2.cv1.conv.weight', 'model.model.15.m.2.cv1.bn.weight', 'model.model.15.m.2.cv1.bn.bias', 'model.model.15.m.2.cv1.bn.running_mean', 'model.model.15.m.2.cv1.bn.running_var', 'model.model.15.m.2.cv1.bn.num_batches_tracked', 'model.model.15.m.2.cv2.conv.weight', 'model.model.15.m.2.cv2.bn.weight', 'model.model.15.m.2.cv2.bn.bias', 'model.model.15.m.2.cv2.bn.running_mean', 'model.model.15.m.2.cv2.bn.running_var', 'model.model.15.m.2.cv2.bn.num_batches_tracked', 'model.model.16.conv.weight', 'model.model.16.bn.weight', 'model.model.16.bn.bias', 'model.model.16.bn.running_mean', 'model.model.16.bn.running_var', 'model.model.16.bn.num_batches_tracked', 'model.model.18.cv1.conv.weight', 'model.model.18.cv1.bn.weight', 'model.model.18.cv1.bn.bias', 'model.model.18.cv1.bn.running_mean', 'model.model.18.cv1.bn.running_var', 'model.model.18.cv1.bn.num_batches_tracked', 'model.model.18.cv2.conv.weight', 'model.model.18.cv2.bn.weight', 'model.model.18.cv2.bn.bias', 'model.model.18.cv2.bn.running_mean', 'model.model.18.cv2.bn.running_var', 'model.model.18.cv2.bn.num_batches_tracked', 'model.model.18.m.0.cv1.conv.weight', 'model.model.18.m.0.cv1.bn.weight', 'model.model.18.m.0.cv1.bn.bias', 'model.model.18.m.0.cv1.bn.running_mean', 'model.model.18.m.0.cv1.bn.running_var', 'model.model.18.m.0.cv1.bn.num_batches_tracked', 'model.model.18.m.0.cv2.conv.weight', 'model.model.18.m.0.cv2.bn.weight', 'model.model.18.m.0.cv2.bn.bias', 'model.model.18.m.0.cv2.bn.running_mean', 'model.model.18.m.0.cv2.bn.running_var', 'model.model.18.m.0.cv2.bn.num_batches_tracked', 'model.model.18.m.1.cv1.conv.weight', 'model.model.18.m.1.cv1.bn.weight', 'model.model.18.m.1.cv1.bn.bias', 'model.model.18.m.1.cv1.bn.running_mean', 'model.model.18.m.1.cv1.bn.running_var', 'model.model.18.m.1.cv1.bn.num_batches_tracked', 'model.model.18.m.1.cv2.conv.weight', 'model.model.18.m.1.cv2.bn.weight', 'model.model.18.m.1.cv2.bn.bias', 'model.model.18.m.1.cv2.bn.running_mean', 'model.model.18.m.1.cv2.bn.running_var', 'model.model.18.m.1.cv2.bn.num_batches_tracked', 'model.model.18.m.2.cv1.conv.weight', 'model.model.18.m.2.cv1.bn.weight', 'model.model.18.m.2.cv1.bn.bias', 'model.model.18.m.2.cv1.bn.running_mean', 'model.model.18.m.2.cv1.bn.running_var', 'model.model.18.m.2.cv1.bn.num_batches_tracked', 'model.model.18.m.2.cv2.conv.weight', 'model.model.18.m.2.cv2.bn.weight', 'model.model.18.m.2.cv2.bn.bias', 'model.model.18.m.2.cv2.bn.running_mean', 'model.model.18.m.2.cv2.bn.running_var', 'model.model.18.m.2.cv2.bn.num_batches_tracked', 'model.model.19.conv.weight', 'model.model.19.bn.weight', 'model.model.19.bn.bias', 'model.model.19.bn.running_mean', 'model.model.19.bn.running_var', 'model.model.19.bn.num_batches_tracked', 'model.model.21.cv1.conv.weight', 'model.model.21.cv1.bn.weight', 'model.model.21.cv1.bn.bias', 'model.model.21.cv1.bn.running_mean', 'model.model.21.cv1.bn.running_var', 'model.model.21.cv1.bn.num_batches_tracked', 'model.model.21.cv2.conv.weight', 'model.model.21.cv2.bn.weight', 'model.model.21.cv2.bn.bias', 'model.model.21.cv2.bn.running_mean', 'model.model.21.cv2.bn.running_var', 'model.model.21.cv2.bn.num_batches_tracked', 'model.model.21.m.0.cv1.conv.weight', 'model.model.21.m.0.cv1.bn.weight', 'model.model.21.m.0.cv1.bn.bias', 'model.model.21.m.0.cv1.bn.running_mean', 'model.model.21.m.0.cv1.bn.running_var', 'model.model.21.m.0.cv1.bn.num_batches_tracked', 'model.model.21.m.0.cv2.conv.weight', 'model.model.21.m.0.cv2.bn.weight', 'model.model.21.m.0.cv2.bn.bias', 'model.model.21.m.0.cv2.bn.running_mean', 'model.model.21.m.0.cv2.bn.running_var', 'model.model.21.m.0.cv2.bn.num_batches_tracked', 'model.model.21.m.1.cv1.conv.weight', 'model.model.21.m.1.cv1.bn.weight', 'model.model.21.m.1.cv1.bn.bias', 'model.model.21.m.1.cv1.bn.running_mean', 'model.model.21.m.1.cv1.bn.running_var', 'model.model.21.m.1.cv1.bn.num_batches_tracked', 'model.model.21.m.1.cv2.conv.weight', 'model.model.21.m.1.cv2.bn.weight', 'model.model.21.m.1.cv2.bn.bias', 'model.model.21.m.1.cv2.bn.running_mean', 'model.model.21.m.1.cv2.bn.running_var', 'model.model.21.m.1.cv2.bn.num_batches_tracked', 'model.model.21.m.2.cv1.conv.weight', 'model.model.21.m.2.cv1.bn.weight', 'model.model.21.m.2.cv1.bn.bias', 'model.model.21.m.2.cv1.bn.running_mean', 'model.model.21.m.2.cv1.bn.running_var', 'model.model.21.m.2.cv1.bn.num_batches_tracked', 'model.model.21.m.2.cv2.conv.weight', 'model.model.21.m.2.cv2.bn.weight', 'model.model.21.m.2.cv2.bn.bias', 'model.model.21.m.2.cv2.bn.running_mean', 'model.model.21.m.2.cv2.bn.running_var', 'model.model.21.m.2.cv2.bn.num_batches_tracked', 'model.model.22.cv2.0.0.conv.weight', 'model.model.22.cv2.0.0.bn.weight', 'model.model.22.cv2.0.0.bn.bias', 'model.model.22.cv2.0.0.bn.running_mean', 'model.model.22.cv2.0.0.bn.running_var', 'model.model.22.cv2.0.0.bn.num_batches_tracked', 'model.model.22.cv2.0.1.conv.weight', 'model.model.22.cv2.0.1.bn.weight', 'model.model.22.cv2.0.1.bn.bias', 'model.model.22.cv2.0.1.bn.running_mean', 'model.model.22.cv2.0.1.bn.running_var', 'model.model.22.cv2.0.1.bn.num_batches_tracked', 'model.model.22.cv2.0.2.weight', 'model.model.22.cv2.0.2.bias', 'model.model.22.cv2.1.0.conv.weight', 'model.model.22.cv2.1.0.bn.weight', 'model.model.22.cv2.1.0.bn.bias', 'model.model.22.cv2.1.0.bn.running_mean', 'model.model.22.cv2.1.0.bn.running_var', 'model.model.22.cv2.1.0.bn.num_batches_tracked', 'model.model.22.cv2.1.1.conv.weight', 'model.model.22.cv2.1.1.bn.weight', 'model.model.22.cv2.1.1.bn.bias', 'model.model.22.cv2.1.1.bn.running_mean', 'model.model.22.cv2.1.1.bn.running_var', 'model.model.22.cv2.1.1.bn.num_batches_tracked', 'model.model.22.cv2.1.2.weight', 'model.model.22.cv2.1.2.bias', 'model.model.22.cv2.2.0.conv.weight', 'model.model.22.cv2.2.0.bn.weight', 'model.model.22.cv2.2.0.bn.bias', 'model.model.22.cv2.2.0.bn.running_mean', 'model.model.22.cv2.2.0.bn.running_var', 'model.model.22.cv2.2.0.bn.num_batches_tracked', 'model.model.22.cv2.2.1.conv.weight', 'model.model.22.cv2.2.1.bn.weight', 'model.model.22.cv2.2.1.bn.bias', 'model.model.22.cv2.2.1.bn.running_mean', 'model.model.22.cv2.2.1.bn.running_var', 'model.model.22.cv2.2.1.bn.num_batches_tracked', 'model.model.22.cv2.2.2.weight', 'model.model.22.cv2.2.2.bias', 'model.model.22.cv3.0.0.conv.weight', 'model.model.22.cv3.0.0.bn.weight', 'model.model.22.cv3.0.0.bn.bias', 'model.model.22.cv3.0.0.bn.running_mean', 'model.model.22.cv3.0.0.bn.running_var', 'model.model.22.cv3.0.0.bn.num_batches_tracked', 'model.model.22.cv3.0.1.conv.weight', 'model.model.22.cv3.0.1.bn.weight', 'model.model.22.cv3.0.1.bn.bias', 'model.model.22.cv3.0.1.bn.running_mean', 'model.model.22.cv3.0.1.bn.running_var', 'model.model.22.cv3.0.1.bn.num_batches_tracked', 'model.model.22.cv3.0.2.weight', 'model.model.22.cv3.0.2.bias', 'model.model.22.cv3.1.0.conv.weight', 'model.model.22.cv3.1.0.bn.weight', 'model.model.22.cv3.1.0.bn.bias', 'model.model.22.cv3.1.0.bn.running_mean', 'model.model.22.cv3.1.0.bn.running_var', 'model.model.22.cv3.1.0.bn.num_batches_tracked', 'model.model.22.cv3.1.1.conv.weight', 'model.model.22.cv3.1.1.bn.weight', 'model.model.22.cv3.1.1.bn.bias', 'model.model.22.cv3.1.1.bn.running_mean', 'model.model.22.cv3.1.1.bn.running_var', 'model.model.22.cv3.1.1.bn.num_batches_tracked', 'model.model.22.cv3.1.2.weight', 'model.model.22.cv3.1.2.bias', 'model.model.22.cv3.2.0.conv.weight', 'model.model.22.cv3.2.0.bn.weight', 'model.model.22.cv3.2.0.bn.bias', 'model.model.22.cv3.2.0.bn.running_mean', 'model.model.22.cv3.2.0.bn.running_var', 'model.model.22.cv3.2.0.bn.num_batches_tracked', 'model.model.22.cv3.2.1.conv.weight', 'model.model.22.cv3.2.1.bn.weight', 'model.model.22.cv3.2.1.bn.bias', 'model.model.22.cv3.2.1.bn.running_mean', 'model.model.22.cv3.2.1.bn.running_var', 'model.model.22.cv3.2.1.bn.num_batches_tracked', 'model.model.22.cv3.2.2.weight', 'model.model.22.cv3.2.2.bias', 'model.model.22.dfl.conv.weight'])"
      ]
     },
     "execution_count": 5,
     "metadata": {},
     "output_type": "execute_result"
    }
   ],
   "source": [
    "# Inspecting Model Architecture\n",
    "# We should freeze all but the last layer\n",
    "model.state_dict().keys()"
   ]
  },
  {
   "cell_type": "code",
   "execution_count": 6,
   "metadata": {},
   "outputs": [],
   "source": [
    "# Add a callback to put the frozen layers in eval mode to prevent BN values from changing.\n",
    "def put_in_eval_mode(trainer, n_layers=22):\n",
    "  for i, (name, module) in enumerate(trainer.model.named_modules()):\n",
    "    if name.endswith(\"bn\") and int(name.split('.')[1]) < n_layers:\n",
    "      module.eval()\n",
    "      module.track_running_stats = False\n",
    "      # print(name, \" put in eval mode.\")"
   ]
  },
  {
   "cell_type": "code",
   "execution_count": 7,
   "metadata": {},
   "outputs": [],
   "source": [
    "model.add_callback(\"on_train_epoch_start\", put_in_eval_mode)\n",
    "model.add_callback(\"on_pretrain_routine_start\", put_in_eval_mode)"
   ]
  },
  {
   "cell_type": "code",
   "execution_count": 8,
   "metadata": {},
   "outputs": [
    {
     "name": "stdout",
     "output_type": "stream",
     "text": [
      "New https://pypi.org/project/ultralytics/8.2.61 available 😃 Update with 'pip install -U ultralytics'\n",
      "Ultralytics YOLOv8.1.23 🚀 Python-3.12.3 torch-2.3.1+cu118 CUDA:0 (NVIDIA GeForce GTX 1050, 3072MiB)\n",
      "\u001b[34m\u001b[1mengine\\trainer: \u001b[0mtask=detect, mode=train, model=yolov8x.pt, data=C:/Users/Lenovo/Desktop/expand1/datasets/data2.yaml, epochs=5, time=None, patience=100, batch=16, imgsz=320, save=True, save_period=-1, cache=False, device=None, workers=8, project=None, name=train2, exist_ok=False, pretrained=True, optimizer=auto, verbose=True, seed=0, deterministic=True, single_cls=False, rect=False, cos_lr=False, close_mosaic=10, resume=False, amp=True, fraction=1.0, profile=False, freeze=22, multi_scale=False, overlap_mask=True, mask_ratio=4, dropout=0.0, val=True, split=val, save_json=False, save_hybrid=False, conf=None, iou=0.7, max_det=300, half=False, dnn=False, plots=True, source=None, vid_stride=1, stream_buffer=False, visualize=False, augment=False, agnostic_nms=False, classes=None, retina_masks=False, embed=None, show=False, save_frames=False, save_txt=False, save_conf=False, save_crop=False, show_labels=True, show_conf=True, show_boxes=True, line_width=None, format=torchscript, keras=False, optimize=False, int8=False, dynamic=False, simplify=False, opset=None, workspace=4, nms=False, lr0=0.01, lrf=0.01, momentum=0.937, weight_decay=0.0005, warmup_epochs=3.0, warmup_momentum=0.8, warmup_bias_lr=0.1, box=7.5, cls=0.5, dfl=1.5, pose=12.0, kobj=1.0, label_smoothing=0.0, nbs=64, hsv_h=0.015, hsv_s=0.7, hsv_v=0.4, degrees=0.0, translate=0.1, scale=0.5, shear=0.0, perspective=0.0, flipud=0.0, fliplr=0.5, mosaic=1.0, mixup=0.0, copy_paste=0.0, auto_augment=randaugment, erasing=0.4, crop_fraction=1.0, cfg=None, tracker=botsort.yaml, save_dir=runs\\detect\\train2\n",
      "Overriding model.yaml nc=80 with nc=1\n",
      "\n",
      "                   from  n    params  module                                       arguments                     \n",
      "  0                  -1  1      2320  ultralytics.nn.modules.conv.Conv             [3, 80, 3, 2]                 \n",
      "  1                  -1  1    115520  ultralytics.nn.modules.conv.Conv             [80, 160, 3, 2]               \n",
      "  2                  -1  3    436800  ultralytics.nn.modules.block.C2f             [160, 160, 3, True]           \n",
      "  3                  -1  1    461440  ultralytics.nn.modules.conv.Conv             [160, 320, 3, 2]              \n",
      "  4                  -1  6   3281920  ultralytics.nn.modules.block.C2f             [320, 320, 6, True]           \n",
      "  5                  -1  1   1844480  ultralytics.nn.modules.conv.Conv             [320, 640, 3, 2]              \n",
      "  6                  -1  6  13117440  ultralytics.nn.modules.block.C2f             [640, 640, 6, True]           \n",
      "  7                  -1  1   3687680  ultralytics.nn.modules.conv.Conv             [640, 640, 3, 2]              \n",
      "  8                  -1  3   6969600  ultralytics.nn.modules.block.C2f             [640, 640, 3, True]           \n",
      "  9                  -1  1   1025920  ultralytics.nn.modules.block.SPPF            [640, 640, 5]                 \n",
      " 10                  -1  1         0  torch.nn.modules.upsampling.Upsample         [None, 2, 'nearest']          \n",
      " 11             [-1, 6]  1         0  ultralytics.nn.modules.conv.Concat           [1]                           \n",
      " 12                  -1  3   7379200  ultralytics.nn.modules.block.C2f             [1280, 640, 3]                \n",
      " 13                  -1  1         0  torch.nn.modules.upsampling.Upsample         [None, 2, 'nearest']          \n",
      " 14             [-1, 4]  1         0  ultralytics.nn.modules.conv.Concat           [1]                           \n",
      " 15                  -1  3   1948800  ultralytics.nn.modules.block.C2f             [960, 320, 3]                 \n",
      " 16                  -1  1    922240  ultralytics.nn.modules.conv.Conv             [320, 320, 3, 2]              \n",
      " 17            [-1, 12]  1         0  ultralytics.nn.modules.conv.Concat           [1]                           \n",
      " 18                  -1  3   7174400  ultralytics.nn.modules.block.C2f             [960, 640, 3]                 \n",
      " 19                  -1  1   3687680  ultralytics.nn.modules.conv.Conv             [640, 640, 3, 2]              \n",
      " 20             [-1, 9]  1         0  ultralytics.nn.modules.conv.Concat           [1]                           \n",
      " 21                  -1  3   7379200  ultralytics.nn.modules.block.C2f             [1280, 640, 3]                \n",
      " 22        [15, 18, 21]  1   8718931  ultralytics.nn.modules.head.Detect           [1, [320, 640, 640]]          \n",
      "Model summary: 365 layers, 68153571 parameters, 68153555 gradients, 258.1 GFLOPs\n",
      "\n",
      "Transferred 589/595 items from pretrained weights\n",
      "\u001b[34m\u001b[1mTensorBoard: \u001b[0mStart with 'tensorboard --logdir runs\\detect\\train2', view at http://localhost:6006/\n",
      "Freezing layer 'model.0.conv.weight'\n",
      "Freezing layer 'model.0.bn.weight'\n",
      "Freezing layer 'model.0.bn.bias'\n",
      "Freezing layer 'model.1.conv.weight'\n",
      "Freezing layer 'model.1.bn.weight'\n",
      "Freezing layer 'model.1.bn.bias'\n",
      "Freezing layer 'model.2.cv1.conv.weight'\n",
      "Freezing layer 'model.2.cv1.bn.weight'\n",
      "Freezing layer 'model.2.cv1.bn.bias'\n",
      "Freezing layer 'model.2.cv2.conv.weight'\n",
      "Freezing layer 'model.2.cv2.bn.weight'\n",
      "Freezing layer 'model.2.cv2.bn.bias'\n",
      "Freezing layer 'model.2.m.0.cv1.conv.weight'\n",
      "Freezing layer 'model.2.m.0.cv1.bn.weight'\n",
      "Freezing layer 'model.2.m.0.cv1.bn.bias'\n",
      "Freezing layer 'model.2.m.0.cv2.conv.weight'\n",
      "Freezing layer 'model.2.m.0.cv2.bn.weight'\n",
      "Freezing layer 'model.2.m.0.cv2.bn.bias'\n",
      "Freezing layer 'model.2.m.1.cv1.conv.weight'\n",
      "Freezing layer 'model.2.m.1.cv1.bn.weight'\n",
      "Freezing layer 'model.2.m.1.cv1.bn.bias'\n",
      "Freezing layer 'model.2.m.1.cv2.conv.weight'\n",
      "Freezing layer 'model.2.m.1.cv2.bn.weight'\n",
      "Freezing layer 'model.2.m.1.cv2.bn.bias'\n",
      "Freezing layer 'model.2.m.2.cv1.conv.weight'\n",
      "Freezing layer 'model.2.m.2.cv1.bn.weight'\n",
      "Freezing layer 'model.2.m.2.cv1.bn.bias'\n",
      "Freezing layer 'model.2.m.2.cv2.conv.weight'\n",
      "Freezing layer 'model.2.m.2.cv2.bn.weight'\n",
      "Freezing layer 'model.2.m.2.cv2.bn.bias'\n",
      "Freezing layer 'model.3.conv.weight'\n",
      "Freezing layer 'model.3.bn.weight'\n",
      "Freezing layer 'model.3.bn.bias'\n",
      "Freezing layer 'model.4.cv1.conv.weight'\n",
      "Freezing layer 'model.4.cv1.bn.weight'\n",
      "Freezing layer 'model.4.cv1.bn.bias'\n",
      "Freezing layer 'model.4.cv2.conv.weight'\n",
      "Freezing layer 'model.4.cv2.bn.weight'\n",
      "Freezing layer 'model.4.cv2.bn.bias'\n",
      "Freezing layer 'model.4.m.0.cv1.conv.weight'\n",
      "Freezing layer 'model.4.m.0.cv1.bn.weight'\n",
      "Freezing layer 'model.4.m.0.cv1.bn.bias'\n",
      "Freezing layer 'model.4.m.0.cv2.conv.weight'\n",
      "Freezing layer 'model.4.m.0.cv2.bn.weight'\n",
      "Freezing layer 'model.4.m.0.cv2.bn.bias'\n",
      "Freezing layer 'model.4.m.1.cv1.conv.weight'\n",
      "Freezing layer 'model.4.m.1.cv1.bn.weight'\n",
      "Freezing layer 'model.4.m.1.cv1.bn.bias'\n",
      "Freezing layer 'model.4.m.1.cv2.conv.weight'\n",
      "Freezing layer 'model.4.m.1.cv2.bn.weight'\n",
      "Freezing layer 'model.4.m.1.cv2.bn.bias'\n",
      "Freezing layer 'model.4.m.2.cv1.conv.weight'\n",
      "Freezing layer 'model.4.m.2.cv1.bn.weight'\n",
      "Freezing layer 'model.4.m.2.cv1.bn.bias'\n",
      "Freezing layer 'model.4.m.2.cv2.conv.weight'\n",
      "Freezing layer 'model.4.m.2.cv2.bn.weight'\n",
      "Freezing layer 'model.4.m.2.cv2.bn.bias'\n",
      "Freezing layer 'model.4.m.3.cv1.conv.weight'\n",
      "Freezing layer 'model.4.m.3.cv1.bn.weight'\n",
      "Freezing layer 'model.4.m.3.cv1.bn.bias'\n",
      "Freezing layer 'model.4.m.3.cv2.conv.weight'\n",
      "Freezing layer 'model.4.m.3.cv2.bn.weight'\n",
      "Freezing layer 'model.4.m.3.cv2.bn.bias'\n",
      "Freezing layer 'model.4.m.4.cv1.conv.weight'\n",
      "Freezing layer 'model.4.m.4.cv1.bn.weight'\n",
      "Freezing layer 'model.4.m.4.cv1.bn.bias'\n",
      "Freezing layer 'model.4.m.4.cv2.conv.weight'\n",
      "Freezing layer 'model.4.m.4.cv2.bn.weight'\n",
      "Freezing layer 'model.4.m.4.cv2.bn.bias'\n",
      "Freezing layer 'model.4.m.5.cv1.conv.weight'\n",
      "Freezing layer 'model.4.m.5.cv1.bn.weight'\n",
      "Freezing layer 'model.4.m.5.cv1.bn.bias'\n",
      "Freezing layer 'model.4.m.5.cv2.conv.weight'\n",
      "Freezing layer 'model.4.m.5.cv2.bn.weight'\n",
      "Freezing layer 'model.4.m.5.cv2.bn.bias'\n",
      "Freezing layer 'model.5.conv.weight'\n",
      "Freezing layer 'model.5.bn.weight'\n",
      "Freezing layer 'model.5.bn.bias'\n",
      "Freezing layer 'model.6.cv1.conv.weight'\n",
      "Freezing layer 'model.6.cv1.bn.weight'\n",
      "Freezing layer 'model.6.cv1.bn.bias'\n",
      "Freezing layer 'model.6.cv2.conv.weight'\n",
      "Freezing layer 'model.6.cv2.bn.weight'\n",
      "Freezing layer 'model.6.cv2.bn.bias'\n",
      "Freezing layer 'model.6.m.0.cv1.conv.weight'\n",
      "Freezing layer 'model.6.m.0.cv1.bn.weight'\n",
      "Freezing layer 'model.6.m.0.cv1.bn.bias'\n",
      "Freezing layer 'model.6.m.0.cv2.conv.weight'\n",
      "Freezing layer 'model.6.m.0.cv2.bn.weight'\n",
      "Freezing layer 'model.6.m.0.cv2.bn.bias'\n",
      "Freezing layer 'model.6.m.1.cv1.conv.weight'\n",
      "Freezing layer 'model.6.m.1.cv1.bn.weight'\n",
      "Freezing layer 'model.6.m.1.cv1.bn.bias'\n",
      "Freezing layer 'model.6.m.1.cv2.conv.weight'\n",
      "Freezing layer 'model.6.m.1.cv2.bn.weight'\n",
      "Freezing layer 'model.6.m.1.cv2.bn.bias'\n",
      "Freezing layer 'model.6.m.2.cv1.conv.weight'\n",
      "Freezing layer 'model.6.m.2.cv1.bn.weight'\n",
      "Freezing layer 'model.6.m.2.cv1.bn.bias'\n",
      "Freezing layer 'model.6.m.2.cv2.conv.weight'\n",
      "Freezing layer 'model.6.m.2.cv2.bn.weight'\n",
      "Freezing layer 'model.6.m.2.cv2.bn.bias'\n",
      "Freezing layer 'model.6.m.3.cv1.conv.weight'\n",
      "Freezing layer 'model.6.m.3.cv1.bn.weight'\n",
      "Freezing layer 'model.6.m.3.cv1.bn.bias'\n",
      "Freezing layer 'model.6.m.3.cv2.conv.weight'\n",
      "Freezing layer 'model.6.m.3.cv2.bn.weight'\n",
      "Freezing layer 'model.6.m.3.cv2.bn.bias'\n",
      "Freezing layer 'model.6.m.4.cv1.conv.weight'\n",
      "Freezing layer 'model.6.m.4.cv1.bn.weight'\n",
      "Freezing layer 'model.6.m.4.cv1.bn.bias'\n",
      "Freezing layer 'model.6.m.4.cv2.conv.weight'\n",
      "Freezing layer 'model.6.m.4.cv2.bn.weight'\n",
      "Freezing layer 'model.6.m.4.cv2.bn.bias'\n",
      "Freezing layer 'model.6.m.5.cv1.conv.weight'\n",
      "Freezing layer 'model.6.m.5.cv1.bn.weight'\n",
      "Freezing layer 'model.6.m.5.cv1.bn.bias'\n",
      "Freezing layer 'model.6.m.5.cv2.conv.weight'\n",
      "Freezing layer 'model.6.m.5.cv2.bn.weight'\n",
      "Freezing layer 'model.6.m.5.cv2.bn.bias'\n",
      "Freezing layer 'model.7.conv.weight'\n",
      "Freezing layer 'model.7.bn.weight'\n",
      "Freezing layer 'model.7.bn.bias'\n",
      "Freezing layer 'model.8.cv1.conv.weight'\n",
      "Freezing layer 'model.8.cv1.bn.weight'\n",
      "Freezing layer 'model.8.cv1.bn.bias'\n",
      "Freezing layer 'model.8.cv2.conv.weight'\n",
      "Freezing layer 'model.8.cv2.bn.weight'\n",
      "Freezing layer 'model.8.cv2.bn.bias'\n",
      "Freezing layer 'model.8.m.0.cv1.conv.weight'\n",
      "Freezing layer 'model.8.m.0.cv1.bn.weight'\n",
      "Freezing layer 'model.8.m.0.cv1.bn.bias'\n",
      "Freezing layer 'model.8.m.0.cv2.conv.weight'\n",
      "Freezing layer 'model.8.m.0.cv2.bn.weight'\n",
      "Freezing layer 'model.8.m.0.cv2.bn.bias'\n",
      "Freezing layer 'model.8.m.1.cv1.conv.weight'\n",
      "Freezing layer 'model.8.m.1.cv1.bn.weight'\n",
      "Freezing layer 'model.8.m.1.cv1.bn.bias'\n",
      "Freezing layer 'model.8.m.1.cv2.conv.weight'\n",
      "Freezing layer 'model.8.m.1.cv2.bn.weight'\n",
      "Freezing layer 'model.8.m.1.cv2.bn.bias'\n",
      "Freezing layer 'model.8.m.2.cv1.conv.weight'\n",
      "Freezing layer 'model.8.m.2.cv1.bn.weight'\n",
      "Freezing layer 'model.8.m.2.cv1.bn.bias'\n",
      "Freezing layer 'model.8.m.2.cv2.conv.weight'\n",
      "Freezing layer 'model.8.m.2.cv2.bn.weight'\n",
      "Freezing layer 'model.8.m.2.cv2.bn.bias'\n",
      "Freezing layer 'model.9.cv1.conv.weight'\n",
      "Freezing layer 'model.9.cv1.bn.weight'\n",
      "Freezing layer 'model.9.cv1.bn.bias'\n",
      "Freezing layer 'model.9.cv2.conv.weight'\n",
      "Freezing layer 'model.9.cv2.bn.weight'\n",
      "Freezing layer 'model.9.cv2.bn.bias'\n",
      "Freezing layer 'model.12.cv1.conv.weight'\n",
      "Freezing layer 'model.12.cv1.bn.weight'\n",
      "Freezing layer 'model.12.cv1.bn.bias'\n",
      "Freezing layer 'model.12.cv2.conv.weight'\n",
      "Freezing layer 'model.12.cv2.bn.weight'\n",
      "Freezing layer 'model.12.cv2.bn.bias'\n",
      "Freezing layer 'model.12.m.0.cv1.conv.weight'\n",
      "Freezing layer 'model.12.m.0.cv1.bn.weight'\n",
      "Freezing layer 'model.12.m.0.cv1.bn.bias'\n",
      "Freezing layer 'model.12.m.0.cv2.conv.weight'\n",
      "Freezing layer 'model.12.m.0.cv2.bn.weight'\n",
      "Freezing layer 'model.12.m.0.cv2.bn.bias'\n",
      "Freezing layer 'model.12.m.1.cv1.conv.weight'\n",
      "Freezing layer 'model.12.m.1.cv1.bn.weight'\n",
      "Freezing layer 'model.12.m.1.cv1.bn.bias'\n",
      "Freezing layer 'model.12.m.1.cv2.conv.weight'\n",
      "Freezing layer 'model.12.m.1.cv2.bn.weight'\n",
      "Freezing layer 'model.12.m.1.cv2.bn.bias'\n",
      "Freezing layer 'model.12.m.2.cv1.conv.weight'\n",
      "Freezing layer 'model.12.m.2.cv1.bn.weight'\n",
      "Freezing layer 'model.12.m.2.cv1.bn.bias'\n",
      "Freezing layer 'model.12.m.2.cv2.conv.weight'\n",
      "Freezing layer 'model.12.m.2.cv2.bn.weight'\n",
      "Freezing layer 'model.12.m.2.cv2.bn.bias'\n",
      "Freezing layer 'model.15.cv1.conv.weight'\n",
      "Freezing layer 'model.15.cv1.bn.weight'\n",
      "Freezing layer 'model.15.cv1.bn.bias'\n",
      "Freezing layer 'model.15.cv2.conv.weight'\n",
      "Freezing layer 'model.15.cv2.bn.weight'\n",
      "Freezing layer 'model.15.cv2.bn.bias'\n",
      "Freezing layer 'model.15.m.0.cv1.conv.weight'\n",
      "Freezing layer 'model.15.m.0.cv1.bn.weight'\n",
      "Freezing layer 'model.15.m.0.cv1.bn.bias'\n",
      "Freezing layer 'model.15.m.0.cv2.conv.weight'\n",
      "Freezing layer 'model.15.m.0.cv2.bn.weight'\n",
      "Freezing layer 'model.15.m.0.cv2.bn.bias'\n",
      "Freezing layer 'model.15.m.1.cv1.conv.weight'\n",
      "Freezing layer 'model.15.m.1.cv1.bn.weight'\n",
      "Freezing layer 'model.15.m.1.cv1.bn.bias'\n",
      "Freezing layer 'model.15.m.1.cv2.conv.weight'\n",
      "Freezing layer 'model.15.m.1.cv2.bn.weight'\n",
      "Freezing layer 'model.15.m.1.cv2.bn.bias'\n",
      "Freezing layer 'model.15.m.2.cv1.conv.weight'\n",
      "Freezing layer 'model.15.m.2.cv1.bn.weight'\n",
      "Freezing layer 'model.15.m.2.cv1.bn.bias'\n",
      "Freezing layer 'model.15.m.2.cv2.conv.weight'\n",
      "Freezing layer 'model.15.m.2.cv2.bn.weight'\n",
      "Freezing layer 'model.15.m.2.cv2.bn.bias'\n",
      "Freezing layer 'model.16.conv.weight'\n",
      "Freezing layer 'model.16.bn.weight'\n",
      "Freezing layer 'model.16.bn.bias'\n",
      "Freezing layer 'model.18.cv1.conv.weight'\n",
      "Freezing layer 'model.18.cv1.bn.weight'\n",
      "Freezing layer 'model.18.cv1.bn.bias'\n",
      "Freezing layer 'model.18.cv2.conv.weight'\n",
      "Freezing layer 'model.18.cv2.bn.weight'\n",
      "Freezing layer 'model.18.cv2.bn.bias'\n",
      "Freezing layer 'model.18.m.0.cv1.conv.weight'\n",
      "Freezing layer 'model.18.m.0.cv1.bn.weight'\n",
      "Freezing layer 'model.18.m.0.cv1.bn.bias'\n",
      "Freezing layer 'model.18.m.0.cv2.conv.weight'\n",
      "Freezing layer 'model.18.m.0.cv2.bn.weight'\n",
      "Freezing layer 'model.18.m.0.cv2.bn.bias'\n",
      "Freezing layer 'model.18.m.1.cv1.conv.weight'\n",
      "Freezing layer 'model.18.m.1.cv1.bn.weight'\n",
      "Freezing layer 'model.18.m.1.cv1.bn.bias'\n",
      "Freezing layer 'model.18.m.1.cv2.conv.weight'\n",
      "Freezing layer 'model.18.m.1.cv2.bn.weight'\n",
      "Freezing layer 'model.18.m.1.cv2.bn.bias'\n",
      "Freezing layer 'model.18.m.2.cv1.conv.weight'\n",
      "Freezing layer 'model.18.m.2.cv1.bn.weight'\n",
      "Freezing layer 'model.18.m.2.cv1.bn.bias'\n",
      "Freezing layer 'model.18.m.2.cv2.conv.weight'\n",
      "Freezing layer 'model.18.m.2.cv2.bn.weight'\n",
      "Freezing layer 'model.18.m.2.cv2.bn.bias'\n",
      "Freezing layer 'model.19.conv.weight'\n",
      "Freezing layer 'model.19.bn.weight'\n",
      "Freezing layer 'model.19.bn.bias'\n",
      "Freezing layer 'model.21.cv1.conv.weight'\n",
      "Freezing layer 'model.21.cv1.bn.weight'\n",
      "Freezing layer 'model.21.cv1.bn.bias'\n",
      "Freezing layer 'model.21.cv2.conv.weight'\n",
      "Freezing layer 'model.21.cv2.bn.weight'\n",
      "Freezing layer 'model.21.cv2.bn.bias'\n",
      "Freezing layer 'model.21.m.0.cv1.conv.weight'\n",
      "Freezing layer 'model.21.m.0.cv1.bn.weight'\n",
      "Freezing layer 'model.21.m.0.cv1.bn.bias'\n",
      "Freezing layer 'model.21.m.0.cv2.conv.weight'\n",
      "Freezing layer 'model.21.m.0.cv2.bn.weight'\n",
      "Freezing layer 'model.21.m.0.cv2.bn.bias'\n",
      "Freezing layer 'model.21.m.1.cv1.conv.weight'\n",
      "Freezing layer 'model.21.m.1.cv1.bn.weight'\n",
      "Freezing layer 'model.21.m.1.cv1.bn.bias'\n",
      "Freezing layer 'model.21.m.1.cv2.conv.weight'\n",
      "Freezing layer 'model.21.m.1.cv2.bn.weight'\n",
      "Freezing layer 'model.21.m.1.cv2.bn.bias'\n",
      "Freezing layer 'model.21.m.2.cv1.conv.weight'\n",
      "Freezing layer 'model.21.m.2.cv1.bn.weight'\n",
      "Freezing layer 'model.21.m.2.cv1.bn.bias'\n",
      "Freezing layer 'model.21.m.2.cv2.conv.weight'\n",
      "Freezing layer 'model.21.m.2.cv2.bn.weight'\n",
      "Freezing layer 'model.21.m.2.cv2.bn.bias'\n",
      "Freezing layer 'model.22.dfl.conv.weight'\n",
      "\u001b[34m\u001b[1mAMP: \u001b[0mrunning Automatic Mixed Precision (AMP) checks with YOLOv8n...\n",
      "\u001b[34m\u001b[1mAMP: \u001b[0mchecks passed ✅\n"
     ]
    },
    {
     "name": "stderr",
     "output_type": "stream",
     "text": [
      "\u001b[34m\u001b[1mtrain: \u001b[0mScanning C:\\Users\\Lenovo\\Desktop\\expand1\\datasets\\Project-2\\train\\labels.cache... 4907 images, 590 backgrounds, 0 corrupt: 100%|██████████| 4907/4907 [00:00<?, ?it/s]\n",
      "\u001b[34m\u001b[1mval: \u001b[0mScanning C:\\Users\\Lenovo\\Desktop\\expand1\\datasets\\Project-2\\valid\\labels.cache... 462 images, 79 backgrounds, 0 corrupt: 100%|██████████| 462/462 [00:00<?, ?it/s]\n"
     ]
    },
    {
     "name": "stdout",
     "output_type": "stream",
     "text": [
      "Plotting labels to runs\\detect\\train2\\labels.jpg... \n",
      "\u001b[34m\u001b[1moptimizer:\u001b[0m 'optimizer=auto' found, ignoring 'lr0=0.01' and 'momentum=0.937' and determining best 'optimizer', 'lr0' and 'momentum' automatically... \n",
      "\u001b[34m\u001b[1moptimizer:\u001b[0m AdamW(lr=0.002, momentum=0.9) with parameter groups 97 weight(decay=0.0), 104 weight(decay=0.0005), 103 bias(decay=0.0)\n",
      "\u001b[34m\u001b[1mTensorBoard: \u001b[0mmodel graph visualization added ✅\n",
      "Image sizes 320 train, 320 val\n",
      "Using 8 dataloader workers\n",
      "Logging results to \u001b[1mruns\\detect\\train2\u001b[0m\n",
      "Starting training for 5 epochs...\n",
      "\n",
      "      Epoch    GPU_mem   box_loss   cls_loss   dfl_loss  Instances       Size\n"
     ]
    },
    {
     "name": "stderr",
     "output_type": "stream",
     "text": [
      "        1/5      1.26G      1.077     0.8267       1.36         23        320: 100%|██████████| 307/307 [04:42<00:00,  1.09it/s]\n",
      "                 Class     Images  Instances      Box(P          R      mAP50  mAP50-95): 100%|██████████| 15/15 [00:28<00:00,  1.91s/it]"
     ]
    },
    {
     "name": "stdout",
     "output_type": "stream",
     "text": [
      "                   all        462        432       0.95      0.961      0.988      0.783\n"
     ]
    },
    {
     "name": "stderr",
     "output_type": "stream",
     "text": [
      "\n"
     ]
    },
    {
     "name": "stdout",
     "output_type": "stream",
     "text": [
      "\n",
      "      Epoch    GPU_mem   box_loss   cls_loss   dfl_loss  Instances       Size\n"
     ]
    },
    {
     "name": "stderr",
     "output_type": "stream",
     "text": [
      "        2/5      1.41G       1.01     0.6704      1.292         23        320: 100%|██████████| 307/307 [07:05<00:00,  1.39s/it]\n",
      "                 Class     Images  Instances      Box(P          R      mAP50  mAP50-95): 100%|██████████| 15/15 [00:51<00:00,  3.46s/it]"
     ]
    },
    {
     "name": "stdout",
     "output_type": "stream",
     "text": [
      "                   all        462        432      0.952      0.964      0.985      0.781\n"
     ]
    },
    {
     "name": "stderr",
     "output_type": "stream",
     "text": [
      "\n"
     ]
    },
    {
     "name": "stdout",
     "output_type": "stream",
     "text": [
      "\n",
      "      Epoch    GPU_mem   box_loss   cls_loss   dfl_loss  Instances       Size\n"
     ]
    },
    {
     "name": "stderr",
     "output_type": "stream",
     "text": [
      "        3/5      1.39G     0.9892      0.639      1.273         31        320: 100%|██████████| 307/307 [06:52<00:00,  1.34s/it]\n",
      "                 Class     Images  Instances      Box(P          R      mAP50  mAP50-95): 100%|██████████| 15/15 [00:36<00:00,  2.46s/it]"
     ]
    },
    {
     "name": "stdout",
     "output_type": "stream",
     "text": [
      "                   all        462        432       0.97      0.971      0.989      0.809\n"
     ]
    },
    {
     "name": "stderr",
     "output_type": "stream",
     "text": [
      "\n"
     ]
    },
    {
     "name": "stdout",
     "output_type": "stream",
     "text": [
      "\n",
      "      Epoch    GPU_mem   box_loss   cls_loss   dfl_loss  Instances       Size\n"
     ]
    },
    {
     "name": "stderr",
     "output_type": "stream",
     "text": [
      "        4/5      1.37G     0.9466     0.6033      1.247         20        320: 100%|██████████| 307/307 [06:21<00:00,  1.24s/it]\n",
      "                 Class     Images  Instances      Box(P          R      mAP50  mAP50-95): 100%|██████████| 15/15 [00:28<00:00,  1.92s/it]"
     ]
    },
    {
     "name": "stdout",
     "output_type": "stream",
     "text": [
      "                   all        462        432      0.968      0.975      0.991      0.827\n"
     ]
    },
    {
     "name": "stderr",
     "output_type": "stream",
     "text": [
      "\n"
     ]
    },
    {
     "name": "stdout",
     "output_type": "stream",
     "text": [
      "\n",
      "      Epoch    GPU_mem   box_loss   cls_loss   dfl_loss  Instances       Size\n"
     ]
    },
    {
     "name": "stderr",
     "output_type": "stream",
     "text": [
      "        5/5      1.44G     0.9192      0.582      1.231         17        320: 100%|██████████| 307/307 [04:57<00:00,  1.03it/s]\n",
      "                 Class     Images  Instances      Box(P          R      mAP50  mAP50-95): 100%|██████████| 15/15 [00:23<00:00,  1.57s/it]"
     ]
    },
    {
     "name": "stdout",
     "output_type": "stream",
     "text": [
      "                   all        462        432      0.972      0.975      0.993      0.832\n"
     ]
    },
    {
     "name": "stderr",
     "output_type": "stream",
     "text": [
      "\n"
     ]
    },
    {
     "name": "stdout",
     "output_type": "stream",
     "text": [
      "\n",
      "5 epochs completed in 0.554 hours.\n",
      "Optimizer stripped from runs\\detect\\train2\\weights\\last.pt, 136.7MB\n",
      "Optimizer stripped from runs\\detect\\train2\\weights\\best.pt, 136.7MB\n",
      "\n",
      "Validating runs\\detect\\train2\\weights\\best.pt...\n",
      "Ultralytics YOLOv8.1.23 🚀 Python-3.12.3 torch-2.3.1+cu118 CUDA:0 (NVIDIA GeForce GTX 1050, 3072MiB)\n",
      "Model summary (fused): 268 layers, 68124531 parameters, 0 gradients, 257.4 GFLOPs\n"
     ]
    },
    {
     "name": "stderr",
     "output_type": "stream",
     "text": [
      "                 Class     Images  Instances      Box(P          R      mAP50  mAP50-95): 100%|██████████| 15/15 [00:21<00:00,  1.45s/it]\n"
     ]
    },
    {
     "name": "stdout",
     "output_type": "stream",
     "text": [
      "                   all        462        432      0.972      0.975      0.993      0.832\n",
      "Speed: 0.1ms preprocess, 40.6ms inference, 0.0ms loss, 1.5ms postprocess per image\n",
      "Results saved to \u001b[1mruns\\detect\\train2\u001b[0m\n"
     ]
    }
   ],
   "source": [
    "# Train the model. Freeze the first 22 layers [0-21].\n",
    "results = model.train(data='C:/Users/Lenovo/Desktop/expand1/datasets/data2.yaml', freeze=22, epochs=5, imgsz=320)"
   ]
  },
  {
   "cell_type": "code",
   "execution_count": 9,
   "metadata": {},
   "outputs": [],
   "source": [
    "def compare_dicts(state_dict1, state_dict2):\n",
    "    # Compare the keys\n",
    "    keys1 = set(state_dict1.keys())\n",
    "    keys2 = set(state_dict2.keys())\n",
    "\n",
    "    if keys1 != keys2:\n",
    "        print(\"Models have different parameter names.\")\n",
    "        return False\n",
    "\n",
    "    # Compare the values (weights)\n",
    "    for key in keys1:\n",
    "        if not torch.equal(state_dict1[key], state_dict2[key]):\n",
    "            print(f\"Weights for parameter '{key}' are different.\")\n",
    "            if \"bn\" in key and \"22\" not in key:\n",
    "              state_dict1[key] = state_dict2[key]"
   ]
  },
  {
   "cell_type": "code",
   "execution_count": 10,
   "metadata": {},
   "outputs": [
    {
     "name": "stdout",
     "output_type": "stream",
     "text": [
      "Weights for parameter 'model.model.22.cv2.0.0.bn.weight' are different.\n",
      "Weights for parameter 'model.model.22.cv2.1.0.bn.running_mean' are different.\n",
      "Weights for parameter 'model.model.22.cv2.0.0.bn.running_var' are different.\n",
      "Weights for parameter 'model.model.22.cv3.1.2.weight' are different.\n",
      "Weights for parameter 'model.model.22.cv3.2.2.bias' are different.\n",
      "Weights for parameter 'model.model.22.cv2.1.2.weight' are different.\n",
      "Weights for parameter 'model.model.22.cv3.0.0.bn.weight' are different.\n",
      "Weights for parameter 'model.model.22.cv2.2.0.bn.weight' are different.\n",
      "Weights for parameter 'model.model.22.cv2.2.1.conv.weight' are different.\n",
      "Weights for parameter 'model.model.22.cv3.1.1.bn.bias' are different.\n",
      "Weights for parameter 'model.model.22.cv3.0.2.bias' are different.\n",
      "Weights for parameter 'model.model.22.cv3.0.1.bn.bias' are different.\n",
      "Weights for parameter 'model.model.22.cv2.1.0.bn.weight' are different.\n",
      "Weights for parameter 'model.model.22.cv2.2.1.bn.running_mean' are different.\n",
      "Weights for parameter 'model.model.22.cv2.1.1.conv.weight' are different.\n",
      "Weights for parameter 'model.model.22.cv3.2.0.bn.weight' are different.\n",
      "Weights for parameter 'model.model.22.cv2.2.1.bn.running_var' are different.\n",
      "Weights for parameter 'model.model.22.cv2.1.1.bn.running_var' are different.\n",
      "Weights for parameter 'model.model.22.cv2.1.2.bias' are different.\n",
      "Weights for parameter 'model.model.22.cv3.2.0.conv.weight' are different.\n",
      "Weights for parameter 'model.model.22.cv2.2.0.conv.weight' are different.\n",
      "Weights for parameter 'model.model.22.cv3.0.0.conv.weight' are different.\n",
      "Weights for parameter 'model.model.22.cv3.2.1.conv.weight' are different.\n",
      "Weights for parameter 'model.model.22.cv2.2.1.bn.weight' are different.\n",
      "Weights for parameter 'model.model.22.cv2.1.1.bn.running_mean' are different.\n",
      "Weights for parameter 'model.model.22.cv3.2.1.bn.running_mean' are different.\n",
      "Weights for parameter 'model.model.22.cv3.1.1.conv.weight' are different.\n",
      "Weights for parameter 'model.model.22.cv3.2.1.bn.bias' are different.\n",
      "Weights for parameter 'model.model.22.cv3.1.1.bn.running_mean' are different.\n",
      "Weights for parameter 'model.model.22.cv2.1.0.bn.running_var' are different.\n",
      "Weights for parameter 'model.model.22.cv2.0.1.conv.weight' are different.\n",
      "Weights for parameter 'model.model.22.cv2.1.1.bn.weight' are different.\n",
      "Weights for parameter 'model.model.22.cv3.2.1.bn.weight' are different.\n",
      "Weights for parameter 'model.model.22.cv3.1.2.bias' are different.\n",
      "Weights for parameter 'model.model.22.cv3.0.1.bn.running_var' are different.\n",
      "Weights for parameter 'model.model.22.cv3.0.1.bn.running_mean' are different.\n",
      "Weights for parameter 'model.model.22.cv2.0.2.weight' are different.\n",
      "Weights for parameter 'model.model.22.cv3.1.0.bn.running_mean' are different.\n",
      "Weights for parameter 'model.model.22.cv2.0.0.bn.bias' are different.\n",
      "Weights for parameter 'model.model.22.cv2.1.0.bn.bias' are different.\n",
      "Weights for parameter 'model.model.22.cv3.1.1.bn.weight' are different.\n",
      "Weights for parameter 'model.model.22.cv2.0.1.bn.bias' are different.\n",
      "Weights for parameter 'model.model.22.cv2.0.1.bn.running_mean' are different.\n",
      "Weights for parameter 'model.model.22.cv3.1.0.bn.weight' are different.\n",
      "Weights for parameter 'model.model.22.cv3.1.0.bn.bias' are different.\n",
      "Weights for parameter 'model.model.22.cv2.2.0.bn.bias' are different.\n",
      "Weights for parameter 'model.model.22.cv2.2.2.bias' are different.\n",
      "Weights for parameter 'model.model.22.cv2.0.1.bn.running_var' are different.\n",
      "Weights for parameter 'model.model.22.cv3.0.1.bn.weight' are different.\n",
      "Weights for parameter 'model.model.22.cv3.0.1.conv.weight' are different.\n",
      "Weights for parameter 'model.model.22.cv2.0.2.bias' are different.\n",
      "Weights for parameter 'model.model.22.cv2.2.0.bn.running_mean' are different.\n",
      "Weights for parameter 'model.model.22.cv2.0.1.bn.weight' are different.\n",
      "Weights for parameter 'model.model.22.cv2.0.0.bn.running_mean' are different.\n",
      "Weights for parameter 'model.model.22.cv3.2.0.bn.running_mean' are different.\n",
      "Weights for parameter 'model.model.22.cv2.2.2.weight' are different.\n",
      "Weights for parameter 'model.model.22.cv3.0.0.bn.running_var' are different.\n",
      "Weights for parameter 'model.model.22.cv2.2.1.bn.bias' are different.\n",
      "Weights for parameter 'model.model.22.cv2.1.0.conv.weight' are different.\n",
      "Weights for parameter 'model.model.22.cv3.2.2.weight' are different.\n",
      "Weights for parameter 'model.model.22.cv3.0.0.bn.running_mean' are different.\n",
      "Weights for parameter 'model.model.22.cv3.0.0.bn.bias' are different.\n",
      "Weights for parameter 'model.model.22.cv3.2.1.bn.running_var' are different.\n",
      "Weights for parameter 'model.model.22.cv2.2.0.bn.running_var' are different.\n",
      "Weights for parameter 'model.model.22.cv3.1.1.bn.running_var' are different.\n",
      "Weights for parameter 'model.model.22.cv3.0.2.weight' are different.\n",
      "Weights for parameter 'model.model.22.cv3.2.0.bn.bias' are different.\n",
      "Weights for parameter 'model.model.22.cv3.1.0.bn.running_var' are different.\n",
      "Weights for parameter 'model.model.22.cv3.2.0.bn.running_var' are different.\n",
      "Weights for parameter 'model.model.22.cv2.0.0.conv.weight' are different.\n",
      "Weights for parameter 'model.model.22.cv3.1.0.conv.weight' are different.\n",
      "Weights for parameter 'model.model.22.cv2.1.1.bn.bias' are different.\n"
     ]
    }
   ],
   "source": [
    "# Compare the dicts. Changes should only be in layer 21 and above\n",
    "compare_dicts(old_dict, model.state_dict())"
   ]
  },
  {
   "cell_type": "code",
   "execution_count": 11,
   "metadata": {},
   "outputs": [],
   "source": [
    "new_state_dict = dict()"
   ]
  },
  {
   "cell_type": "code",
   "execution_count": 12,
   "metadata": {},
   "outputs": [],
   "source": [
    "#  Increment the head number by 1 in the state_dict\n",
    "for k, v in model.state_dict().items():\n",
    "  if k.startswith(\"model.model.22\"):\n",
    "    new_state_dict[k.replace(\"model.22\", \"model.23\")] = v\n",
    "  # else:\n",
    "  #   new_state_dict[k] = v"
   ]
  },
  {
   "cell_type": "code",
   "execution_count": 13,
   "metadata": {},
   "outputs": [],
   "source": [
    "# Save the current state_dict\n",
    "torch.save(new_state_dict, \"yolov8x_lp.pth\")"
   ]
  },
  {
   "cell_type": "markdown",
   "metadata": {},
   "source": [
    "# Create new architecture with extra head and load custom weights"
   ]
  },
  {
   "cell_type": "code",
   "execution_count": 14,
   "metadata": {},
   "outputs": [],
   "source": [
    "from ultralytics import YOLO\n",
    "import torch"
   ]
  },
  {
   "cell_type": "code",
   "execution_count": 15,
   "metadata": {},
   "outputs": [
    {
     "name": "stdout",
     "output_type": "stream",
     "text": [
      "Transferred 595/680 items from pretrained weights\n"
     ]
    }
   ],
   "source": [
    "model_2 = YOLO('ultralytics/cfg/models/v8/yolov8x-2xhead.yaml', task=\"detect\").load('yolov8x.pt')"
   ]
  },
  {
   "cell_type": "code",
   "execution_count": 16,
   "metadata": {},
   "outputs": [
    {
     "data": {
      "text/plain": [
       "odict_keys(['model.model.0.conv.weight', 'model.model.0.bn.weight', 'model.model.0.bn.bias', 'model.model.0.bn.running_mean', 'model.model.0.bn.running_var', 'model.model.0.bn.num_batches_tracked', 'model.model.1.conv.weight', 'model.model.1.bn.weight', 'model.model.1.bn.bias', 'model.model.1.bn.running_mean', 'model.model.1.bn.running_var', 'model.model.1.bn.num_batches_tracked', 'model.model.2.cv1.conv.weight', 'model.model.2.cv1.bn.weight', 'model.model.2.cv1.bn.bias', 'model.model.2.cv1.bn.running_mean', 'model.model.2.cv1.bn.running_var', 'model.model.2.cv1.bn.num_batches_tracked', 'model.model.2.cv2.conv.weight', 'model.model.2.cv2.bn.weight', 'model.model.2.cv2.bn.bias', 'model.model.2.cv2.bn.running_mean', 'model.model.2.cv2.bn.running_var', 'model.model.2.cv2.bn.num_batches_tracked', 'model.model.2.m.0.cv1.conv.weight', 'model.model.2.m.0.cv1.bn.weight', 'model.model.2.m.0.cv1.bn.bias', 'model.model.2.m.0.cv1.bn.running_mean', 'model.model.2.m.0.cv1.bn.running_var', 'model.model.2.m.0.cv1.bn.num_batches_tracked', 'model.model.2.m.0.cv2.conv.weight', 'model.model.2.m.0.cv2.bn.weight', 'model.model.2.m.0.cv2.bn.bias', 'model.model.2.m.0.cv2.bn.running_mean', 'model.model.2.m.0.cv2.bn.running_var', 'model.model.2.m.0.cv2.bn.num_batches_tracked', 'model.model.2.m.1.cv1.conv.weight', 'model.model.2.m.1.cv1.bn.weight', 'model.model.2.m.1.cv1.bn.bias', 'model.model.2.m.1.cv1.bn.running_mean', 'model.model.2.m.1.cv1.bn.running_var', 'model.model.2.m.1.cv1.bn.num_batches_tracked', 'model.model.2.m.1.cv2.conv.weight', 'model.model.2.m.1.cv2.bn.weight', 'model.model.2.m.1.cv2.bn.bias', 'model.model.2.m.1.cv2.bn.running_mean', 'model.model.2.m.1.cv2.bn.running_var', 'model.model.2.m.1.cv2.bn.num_batches_tracked', 'model.model.2.m.2.cv1.conv.weight', 'model.model.2.m.2.cv1.bn.weight', 'model.model.2.m.2.cv1.bn.bias', 'model.model.2.m.2.cv1.bn.running_mean', 'model.model.2.m.2.cv1.bn.running_var', 'model.model.2.m.2.cv1.bn.num_batches_tracked', 'model.model.2.m.2.cv2.conv.weight', 'model.model.2.m.2.cv2.bn.weight', 'model.model.2.m.2.cv2.bn.bias', 'model.model.2.m.2.cv2.bn.running_mean', 'model.model.2.m.2.cv2.bn.running_var', 'model.model.2.m.2.cv2.bn.num_batches_tracked', 'model.model.3.conv.weight', 'model.model.3.bn.weight', 'model.model.3.bn.bias', 'model.model.3.bn.running_mean', 'model.model.3.bn.running_var', 'model.model.3.bn.num_batches_tracked', 'model.model.4.cv1.conv.weight', 'model.model.4.cv1.bn.weight', 'model.model.4.cv1.bn.bias', 'model.model.4.cv1.bn.running_mean', 'model.model.4.cv1.bn.running_var', 'model.model.4.cv1.bn.num_batches_tracked', 'model.model.4.cv2.conv.weight', 'model.model.4.cv2.bn.weight', 'model.model.4.cv2.bn.bias', 'model.model.4.cv2.bn.running_mean', 'model.model.4.cv2.bn.running_var', 'model.model.4.cv2.bn.num_batches_tracked', 'model.model.4.m.0.cv1.conv.weight', 'model.model.4.m.0.cv1.bn.weight', 'model.model.4.m.0.cv1.bn.bias', 'model.model.4.m.0.cv1.bn.running_mean', 'model.model.4.m.0.cv1.bn.running_var', 'model.model.4.m.0.cv1.bn.num_batches_tracked', 'model.model.4.m.0.cv2.conv.weight', 'model.model.4.m.0.cv2.bn.weight', 'model.model.4.m.0.cv2.bn.bias', 'model.model.4.m.0.cv2.bn.running_mean', 'model.model.4.m.0.cv2.bn.running_var', 'model.model.4.m.0.cv2.bn.num_batches_tracked', 'model.model.4.m.1.cv1.conv.weight', 'model.model.4.m.1.cv1.bn.weight', 'model.model.4.m.1.cv1.bn.bias', 'model.model.4.m.1.cv1.bn.running_mean', 'model.model.4.m.1.cv1.bn.running_var', 'model.model.4.m.1.cv1.bn.num_batches_tracked', 'model.model.4.m.1.cv2.conv.weight', 'model.model.4.m.1.cv2.bn.weight', 'model.model.4.m.1.cv2.bn.bias', 'model.model.4.m.1.cv2.bn.running_mean', 'model.model.4.m.1.cv2.bn.running_var', 'model.model.4.m.1.cv2.bn.num_batches_tracked', 'model.model.4.m.2.cv1.conv.weight', 'model.model.4.m.2.cv1.bn.weight', 'model.model.4.m.2.cv1.bn.bias', 'model.model.4.m.2.cv1.bn.running_mean', 'model.model.4.m.2.cv1.bn.running_var', 'model.model.4.m.2.cv1.bn.num_batches_tracked', 'model.model.4.m.2.cv2.conv.weight', 'model.model.4.m.2.cv2.bn.weight', 'model.model.4.m.2.cv2.bn.bias', 'model.model.4.m.2.cv2.bn.running_mean', 'model.model.4.m.2.cv2.bn.running_var', 'model.model.4.m.2.cv2.bn.num_batches_tracked', 'model.model.4.m.3.cv1.conv.weight', 'model.model.4.m.3.cv1.bn.weight', 'model.model.4.m.3.cv1.bn.bias', 'model.model.4.m.3.cv1.bn.running_mean', 'model.model.4.m.3.cv1.bn.running_var', 'model.model.4.m.3.cv1.bn.num_batches_tracked', 'model.model.4.m.3.cv2.conv.weight', 'model.model.4.m.3.cv2.bn.weight', 'model.model.4.m.3.cv2.bn.bias', 'model.model.4.m.3.cv2.bn.running_mean', 'model.model.4.m.3.cv2.bn.running_var', 'model.model.4.m.3.cv2.bn.num_batches_tracked', 'model.model.4.m.4.cv1.conv.weight', 'model.model.4.m.4.cv1.bn.weight', 'model.model.4.m.4.cv1.bn.bias', 'model.model.4.m.4.cv1.bn.running_mean', 'model.model.4.m.4.cv1.bn.running_var', 'model.model.4.m.4.cv1.bn.num_batches_tracked', 'model.model.4.m.4.cv2.conv.weight', 'model.model.4.m.4.cv2.bn.weight', 'model.model.4.m.4.cv2.bn.bias', 'model.model.4.m.4.cv2.bn.running_mean', 'model.model.4.m.4.cv2.bn.running_var', 'model.model.4.m.4.cv2.bn.num_batches_tracked', 'model.model.4.m.5.cv1.conv.weight', 'model.model.4.m.5.cv1.bn.weight', 'model.model.4.m.5.cv1.bn.bias', 'model.model.4.m.5.cv1.bn.running_mean', 'model.model.4.m.5.cv1.bn.running_var', 'model.model.4.m.5.cv1.bn.num_batches_tracked', 'model.model.4.m.5.cv2.conv.weight', 'model.model.4.m.5.cv2.bn.weight', 'model.model.4.m.5.cv2.bn.bias', 'model.model.4.m.5.cv2.bn.running_mean', 'model.model.4.m.5.cv2.bn.running_var', 'model.model.4.m.5.cv2.bn.num_batches_tracked', 'model.model.5.conv.weight', 'model.model.5.bn.weight', 'model.model.5.bn.bias', 'model.model.5.bn.running_mean', 'model.model.5.bn.running_var', 'model.model.5.bn.num_batches_tracked', 'model.model.6.cv1.conv.weight', 'model.model.6.cv1.bn.weight', 'model.model.6.cv1.bn.bias', 'model.model.6.cv1.bn.running_mean', 'model.model.6.cv1.bn.running_var', 'model.model.6.cv1.bn.num_batches_tracked', 'model.model.6.cv2.conv.weight', 'model.model.6.cv2.bn.weight', 'model.model.6.cv2.bn.bias', 'model.model.6.cv2.bn.running_mean', 'model.model.6.cv2.bn.running_var', 'model.model.6.cv2.bn.num_batches_tracked', 'model.model.6.m.0.cv1.conv.weight', 'model.model.6.m.0.cv1.bn.weight', 'model.model.6.m.0.cv1.bn.bias', 'model.model.6.m.0.cv1.bn.running_mean', 'model.model.6.m.0.cv1.bn.running_var', 'model.model.6.m.0.cv1.bn.num_batches_tracked', 'model.model.6.m.0.cv2.conv.weight', 'model.model.6.m.0.cv2.bn.weight', 'model.model.6.m.0.cv2.bn.bias', 'model.model.6.m.0.cv2.bn.running_mean', 'model.model.6.m.0.cv2.bn.running_var', 'model.model.6.m.0.cv2.bn.num_batches_tracked', 'model.model.6.m.1.cv1.conv.weight', 'model.model.6.m.1.cv1.bn.weight', 'model.model.6.m.1.cv1.bn.bias', 'model.model.6.m.1.cv1.bn.running_mean', 'model.model.6.m.1.cv1.bn.running_var', 'model.model.6.m.1.cv1.bn.num_batches_tracked', 'model.model.6.m.1.cv2.conv.weight', 'model.model.6.m.1.cv2.bn.weight', 'model.model.6.m.1.cv2.bn.bias', 'model.model.6.m.1.cv2.bn.running_mean', 'model.model.6.m.1.cv2.bn.running_var', 'model.model.6.m.1.cv2.bn.num_batches_tracked', 'model.model.6.m.2.cv1.conv.weight', 'model.model.6.m.2.cv1.bn.weight', 'model.model.6.m.2.cv1.bn.bias', 'model.model.6.m.2.cv1.bn.running_mean', 'model.model.6.m.2.cv1.bn.running_var', 'model.model.6.m.2.cv1.bn.num_batches_tracked', 'model.model.6.m.2.cv2.conv.weight', 'model.model.6.m.2.cv2.bn.weight', 'model.model.6.m.2.cv2.bn.bias', 'model.model.6.m.2.cv2.bn.running_mean', 'model.model.6.m.2.cv2.bn.running_var', 'model.model.6.m.2.cv2.bn.num_batches_tracked', 'model.model.6.m.3.cv1.conv.weight', 'model.model.6.m.3.cv1.bn.weight', 'model.model.6.m.3.cv1.bn.bias', 'model.model.6.m.3.cv1.bn.running_mean', 'model.model.6.m.3.cv1.bn.running_var', 'model.model.6.m.3.cv1.bn.num_batches_tracked', 'model.model.6.m.3.cv2.conv.weight', 'model.model.6.m.3.cv2.bn.weight', 'model.model.6.m.3.cv2.bn.bias', 'model.model.6.m.3.cv2.bn.running_mean', 'model.model.6.m.3.cv2.bn.running_var', 'model.model.6.m.3.cv2.bn.num_batches_tracked', 'model.model.6.m.4.cv1.conv.weight', 'model.model.6.m.4.cv1.bn.weight', 'model.model.6.m.4.cv1.bn.bias', 'model.model.6.m.4.cv1.bn.running_mean', 'model.model.6.m.4.cv1.bn.running_var', 'model.model.6.m.4.cv1.bn.num_batches_tracked', 'model.model.6.m.4.cv2.conv.weight', 'model.model.6.m.4.cv2.bn.weight', 'model.model.6.m.4.cv2.bn.bias', 'model.model.6.m.4.cv2.bn.running_mean', 'model.model.6.m.4.cv2.bn.running_var', 'model.model.6.m.4.cv2.bn.num_batches_tracked', 'model.model.6.m.5.cv1.conv.weight', 'model.model.6.m.5.cv1.bn.weight', 'model.model.6.m.5.cv1.bn.bias', 'model.model.6.m.5.cv1.bn.running_mean', 'model.model.6.m.5.cv1.bn.running_var', 'model.model.6.m.5.cv1.bn.num_batches_tracked', 'model.model.6.m.5.cv2.conv.weight', 'model.model.6.m.5.cv2.bn.weight', 'model.model.6.m.5.cv2.bn.bias', 'model.model.6.m.5.cv2.bn.running_mean', 'model.model.6.m.5.cv2.bn.running_var', 'model.model.6.m.5.cv2.bn.num_batches_tracked', 'model.model.7.conv.weight', 'model.model.7.bn.weight', 'model.model.7.bn.bias', 'model.model.7.bn.running_mean', 'model.model.7.bn.running_var', 'model.model.7.bn.num_batches_tracked', 'model.model.8.cv1.conv.weight', 'model.model.8.cv1.bn.weight', 'model.model.8.cv1.bn.bias', 'model.model.8.cv1.bn.running_mean', 'model.model.8.cv1.bn.running_var', 'model.model.8.cv1.bn.num_batches_tracked', 'model.model.8.cv2.conv.weight', 'model.model.8.cv2.bn.weight', 'model.model.8.cv2.bn.bias', 'model.model.8.cv2.bn.running_mean', 'model.model.8.cv2.bn.running_var', 'model.model.8.cv2.bn.num_batches_tracked', 'model.model.8.m.0.cv1.conv.weight', 'model.model.8.m.0.cv1.bn.weight', 'model.model.8.m.0.cv1.bn.bias', 'model.model.8.m.0.cv1.bn.running_mean', 'model.model.8.m.0.cv1.bn.running_var', 'model.model.8.m.0.cv1.bn.num_batches_tracked', 'model.model.8.m.0.cv2.conv.weight', 'model.model.8.m.0.cv2.bn.weight', 'model.model.8.m.0.cv2.bn.bias', 'model.model.8.m.0.cv2.bn.running_mean', 'model.model.8.m.0.cv2.bn.running_var', 'model.model.8.m.0.cv2.bn.num_batches_tracked', 'model.model.8.m.1.cv1.conv.weight', 'model.model.8.m.1.cv1.bn.weight', 'model.model.8.m.1.cv1.bn.bias', 'model.model.8.m.1.cv1.bn.running_mean', 'model.model.8.m.1.cv1.bn.running_var', 'model.model.8.m.1.cv1.bn.num_batches_tracked', 'model.model.8.m.1.cv2.conv.weight', 'model.model.8.m.1.cv2.bn.weight', 'model.model.8.m.1.cv2.bn.bias', 'model.model.8.m.1.cv2.bn.running_mean', 'model.model.8.m.1.cv2.bn.running_var', 'model.model.8.m.1.cv2.bn.num_batches_tracked', 'model.model.8.m.2.cv1.conv.weight', 'model.model.8.m.2.cv1.bn.weight', 'model.model.8.m.2.cv1.bn.bias', 'model.model.8.m.2.cv1.bn.running_mean', 'model.model.8.m.2.cv1.bn.running_var', 'model.model.8.m.2.cv1.bn.num_batches_tracked', 'model.model.8.m.2.cv2.conv.weight', 'model.model.8.m.2.cv2.bn.weight', 'model.model.8.m.2.cv2.bn.bias', 'model.model.8.m.2.cv2.bn.running_mean', 'model.model.8.m.2.cv2.bn.running_var', 'model.model.8.m.2.cv2.bn.num_batches_tracked', 'model.model.9.cv1.conv.weight', 'model.model.9.cv1.bn.weight', 'model.model.9.cv1.bn.bias', 'model.model.9.cv1.bn.running_mean', 'model.model.9.cv1.bn.running_var', 'model.model.9.cv1.bn.num_batches_tracked', 'model.model.9.cv2.conv.weight', 'model.model.9.cv2.bn.weight', 'model.model.9.cv2.bn.bias', 'model.model.9.cv2.bn.running_mean', 'model.model.9.cv2.bn.running_var', 'model.model.9.cv2.bn.num_batches_tracked', 'model.model.12.cv1.conv.weight', 'model.model.12.cv1.bn.weight', 'model.model.12.cv1.bn.bias', 'model.model.12.cv1.bn.running_mean', 'model.model.12.cv1.bn.running_var', 'model.model.12.cv1.bn.num_batches_tracked', 'model.model.12.cv2.conv.weight', 'model.model.12.cv2.bn.weight', 'model.model.12.cv2.bn.bias', 'model.model.12.cv2.bn.running_mean', 'model.model.12.cv2.bn.running_var', 'model.model.12.cv2.bn.num_batches_tracked', 'model.model.12.m.0.cv1.conv.weight', 'model.model.12.m.0.cv1.bn.weight', 'model.model.12.m.0.cv1.bn.bias', 'model.model.12.m.0.cv1.bn.running_mean', 'model.model.12.m.0.cv1.bn.running_var', 'model.model.12.m.0.cv1.bn.num_batches_tracked', 'model.model.12.m.0.cv2.conv.weight', 'model.model.12.m.0.cv2.bn.weight', 'model.model.12.m.0.cv2.bn.bias', 'model.model.12.m.0.cv2.bn.running_mean', 'model.model.12.m.0.cv2.bn.running_var', 'model.model.12.m.0.cv2.bn.num_batches_tracked', 'model.model.12.m.1.cv1.conv.weight', 'model.model.12.m.1.cv1.bn.weight', 'model.model.12.m.1.cv1.bn.bias', 'model.model.12.m.1.cv1.bn.running_mean', 'model.model.12.m.1.cv1.bn.running_var', 'model.model.12.m.1.cv1.bn.num_batches_tracked', 'model.model.12.m.1.cv2.conv.weight', 'model.model.12.m.1.cv2.bn.weight', 'model.model.12.m.1.cv2.bn.bias', 'model.model.12.m.1.cv2.bn.running_mean', 'model.model.12.m.1.cv2.bn.running_var', 'model.model.12.m.1.cv2.bn.num_batches_tracked', 'model.model.12.m.2.cv1.conv.weight', 'model.model.12.m.2.cv1.bn.weight', 'model.model.12.m.2.cv1.bn.bias', 'model.model.12.m.2.cv1.bn.running_mean', 'model.model.12.m.2.cv1.bn.running_var', 'model.model.12.m.2.cv1.bn.num_batches_tracked', 'model.model.12.m.2.cv2.conv.weight', 'model.model.12.m.2.cv2.bn.weight', 'model.model.12.m.2.cv2.bn.bias', 'model.model.12.m.2.cv2.bn.running_mean', 'model.model.12.m.2.cv2.bn.running_var', 'model.model.12.m.2.cv2.bn.num_batches_tracked', 'model.model.15.cv1.conv.weight', 'model.model.15.cv1.bn.weight', 'model.model.15.cv1.bn.bias', 'model.model.15.cv1.bn.running_mean', 'model.model.15.cv1.bn.running_var', 'model.model.15.cv1.bn.num_batches_tracked', 'model.model.15.cv2.conv.weight', 'model.model.15.cv2.bn.weight', 'model.model.15.cv2.bn.bias', 'model.model.15.cv2.bn.running_mean', 'model.model.15.cv2.bn.running_var', 'model.model.15.cv2.bn.num_batches_tracked', 'model.model.15.m.0.cv1.conv.weight', 'model.model.15.m.0.cv1.bn.weight', 'model.model.15.m.0.cv1.bn.bias', 'model.model.15.m.0.cv1.bn.running_mean', 'model.model.15.m.0.cv1.bn.running_var', 'model.model.15.m.0.cv1.bn.num_batches_tracked', 'model.model.15.m.0.cv2.conv.weight', 'model.model.15.m.0.cv2.bn.weight', 'model.model.15.m.0.cv2.bn.bias', 'model.model.15.m.0.cv2.bn.running_mean', 'model.model.15.m.0.cv2.bn.running_var', 'model.model.15.m.0.cv2.bn.num_batches_tracked', 'model.model.15.m.1.cv1.conv.weight', 'model.model.15.m.1.cv1.bn.weight', 'model.model.15.m.1.cv1.bn.bias', 'model.model.15.m.1.cv1.bn.running_mean', 'model.model.15.m.1.cv1.bn.running_var', 'model.model.15.m.1.cv1.bn.num_batches_tracked', 'model.model.15.m.1.cv2.conv.weight', 'model.model.15.m.1.cv2.bn.weight', 'model.model.15.m.1.cv2.bn.bias', 'model.model.15.m.1.cv2.bn.running_mean', 'model.model.15.m.1.cv2.bn.running_var', 'model.model.15.m.1.cv2.bn.num_batches_tracked', 'model.model.15.m.2.cv1.conv.weight', 'model.model.15.m.2.cv1.bn.weight', 'model.model.15.m.2.cv1.bn.bias', 'model.model.15.m.2.cv1.bn.running_mean', 'model.model.15.m.2.cv1.bn.running_var', 'model.model.15.m.2.cv1.bn.num_batches_tracked', 'model.model.15.m.2.cv2.conv.weight', 'model.model.15.m.2.cv2.bn.weight', 'model.model.15.m.2.cv2.bn.bias', 'model.model.15.m.2.cv2.bn.running_mean', 'model.model.15.m.2.cv2.bn.running_var', 'model.model.15.m.2.cv2.bn.num_batches_tracked', 'model.model.16.conv.weight', 'model.model.16.bn.weight', 'model.model.16.bn.bias', 'model.model.16.bn.running_mean', 'model.model.16.bn.running_var', 'model.model.16.bn.num_batches_tracked', 'model.model.18.cv1.conv.weight', 'model.model.18.cv1.bn.weight', 'model.model.18.cv1.bn.bias', 'model.model.18.cv1.bn.running_mean', 'model.model.18.cv1.bn.running_var', 'model.model.18.cv1.bn.num_batches_tracked', 'model.model.18.cv2.conv.weight', 'model.model.18.cv2.bn.weight', 'model.model.18.cv2.bn.bias', 'model.model.18.cv2.bn.running_mean', 'model.model.18.cv2.bn.running_var', 'model.model.18.cv2.bn.num_batches_tracked', 'model.model.18.m.0.cv1.conv.weight', 'model.model.18.m.0.cv1.bn.weight', 'model.model.18.m.0.cv1.bn.bias', 'model.model.18.m.0.cv1.bn.running_mean', 'model.model.18.m.0.cv1.bn.running_var', 'model.model.18.m.0.cv1.bn.num_batches_tracked', 'model.model.18.m.0.cv2.conv.weight', 'model.model.18.m.0.cv2.bn.weight', 'model.model.18.m.0.cv2.bn.bias', 'model.model.18.m.0.cv2.bn.running_mean', 'model.model.18.m.0.cv2.bn.running_var', 'model.model.18.m.0.cv2.bn.num_batches_tracked', 'model.model.18.m.1.cv1.conv.weight', 'model.model.18.m.1.cv1.bn.weight', 'model.model.18.m.1.cv1.bn.bias', 'model.model.18.m.1.cv1.bn.running_mean', 'model.model.18.m.1.cv1.bn.running_var', 'model.model.18.m.1.cv1.bn.num_batches_tracked', 'model.model.18.m.1.cv2.conv.weight', 'model.model.18.m.1.cv2.bn.weight', 'model.model.18.m.1.cv2.bn.bias', 'model.model.18.m.1.cv2.bn.running_mean', 'model.model.18.m.1.cv2.bn.running_var', 'model.model.18.m.1.cv2.bn.num_batches_tracked', 'model.model.18.m.2.cv1.conv.weight', 'model.model.18.m.2.cv1.bn.weight', 'model.model.18.m.2.cv1.bn.bias', 'model.model.18.m.2.cv1.bn.running_mean', 'model.model.18.m.2.cv1.bn.running_var', 'model.model.18.m.2.cv1.bn.num_batches_tracked', 'model.model.18.m.2.cv2.conv.weight', 'model.model.18.m.2.cv2.bn.weight', 'model.model.18.m.2.cv2.bn.bias', 'model.model.18.m.2.cv2.bn.running_mean', 'model.model.18.m.2.cv2.bn.running_var', 'model.model.18.m.2.cv2.bn.num_batches_tracked', 'model.model.19.conv.weight', 'model.model.19.bn.weight', 'model.model.19.bn.bias', 'model.model.19.bn.running_mean', 'model.model.19.bn.running_var', 'model.model.19.bn.num_batches_tracked', 'model.model.21.cv1.conv.weight', 'model.model.21.cv1.bn.weight', 'model.model.21.cv1.bn.bias', 'model.model.21.cv1.bn.running_mean', 'model.model.21.cv1.bn.running_var', 'model.model.21.cv1.bn.num_batches_tracked', 'model.model.21.cv2.conv.weight', 'model.model.21.cv2.bn.weight', 'model.model.21.cv2.bn.bias', 'model.model.21.cv2.bn.running_mean', 'model.model.21.cv2.bn.running_var', 'model.model.21.cv2.bn.num_batches_tracked', 'model.model.21.m.0.cv1.conv.weight', 'model.model.21.m.0.cv1.bn.weight', 'model.model.21.m.0.cv1.bn.bias', 'model.model.21.m.0.cv1.bn.running_mean', 'model.model.21.m.0.cv1.bn.running_var', 'model.model.21.m.0.cv1.bn.num_batches_tracked', 'model.model.21.m.0.cv2.conv.weight', 'model.model.21.m.0.cv2.bn.weight', 'model.model.21.m.0.cv2.bn.bias', 'model.model.21.m.0.cv2.bn.running_mean', 'model.model.21.m.0.cv2.bn.running_var', 'model.model.21.m.0.cv2.bn.num_batches_tracked', 'model.model.21.m.1.cv1.conv.weight', 'model.model.21.m.1.cv1.bn.weight', 'model.model.21.m.1.cv1.bn.bias', 'model.model.21.m.1.cv1.bn.running_mean', 'model.model.21.m.1.cv1.bn.running_var', 'model.model.21.m.1.cv1.bn.num_batches_tracked', 'model.model.21.m.1.cv2.conv.weight', 'model.model.21.m.1.cv2.bn.weight', 'model.model.21.m.1.cv2.bn.bias', 'model.model.21.m.1.cv2.bn.running_mean', 'model.model.21.m.1.cv2.bn.running_var', 'model.model.21.m.1.cv2.bn.num_batches_tracked', 'model.model.21.m.2.cv1.conv.weight', 'model.model.21.m.2.cv1.bn.weight', 'model.model.21.m.2.cv1.bn.bias', 'model.model.21.m.2.cv1.bn.running_mean', 'model.model.21.m.2.cv1.bn.running_var', 'model.model.21.m.2.cv1.bn.num_batches_tracked', 'model.model.21.m.2.cv2.conv.weight', 'model.model.21.m.2.cv2.bn.weight', 'model.model.21.m.2.cv2.bn.bias', 'model.model.21.m.2.cv2.bn.running_mean', 'model.model.21.m.2.cv2.bn.running_var', 'model.model.21.m.2.cv2.bn.num_batches_tracked', 'model.model.22.cv2.0.0.conv.weight', 'model.model.22.cv2.0.0.bn.weight', 'model.model.22.cv2.0.0.bn.bias', 'model.model.22.cv2.0.0.bn.running_mean', 'model.model.22.cv2.0.0.bn.running_var', 'model.model.22.cv2.0.0.bn.num_batches_tracked', 'model.model.22.cv2.0.1.conv.weight', 'model.model.22.cv2.0.1.bn.weight', 'model.model.22.cv2.0.1.bn.bias', 'model.model.22.cv2.0.1.bn.running_mean', 'model.model.22.cv2.0.1.bn.running_var', 'model.model.22.cv2.0.1.bn.num_batches_tracked', 'model.model.22.cv2.0.2.weight', 'model.model.22.cv2.0.2.bias', 'model.model.22.cv2.1.0.conv.weight', 'model.model.22.cv2.1.0.bn.weight', 'model.model.22.cv2.1.0.bn.bias', 'model.model.22.cv2.1.0.bn.running_mean', 'model.model.22.cv2.1.0.bn.running_var', 'model.model.22.cv2.1.0.bn.num_batches_tracked', 'model.model.22.cv2.1.1.conv.weight', 'model.model.22.cv2.1.1.bn.weight', 'model.model.22.cv2.1.1.bn.bias', 'model.model.22.cv2.1.1.bn.running_mean', 'model.model.22.cv2.1.1.bn.running_var', 'model.model.22.cv2.1.1.bn.num_batches_tracked', 'model.model.22.cv2.1.2.weight', 'model.model.22.cv2.1.2.bias', 'model.model.22.cv2.2.0.conv.weight', 'model.model.22.cv2.2.0.bn.weight', 'model.model.22.cv2.2.0.bn.bias', 'model.model.22.cv2.2.0.bn.running_mean', 'model.model.22.cv2.2.0.bn.running_var', 'model.model.22.cv2.2.0.bn.num_batches_tracked', 'model.model.22.cv2.2.1.conv.weight', 'model.model.22.cv2.2.1.bn.weight', 'model.model.22.cv2.2.1.bn.bias', 'model.model.22.cv2.2.1.bn.running_mean', 'model.model.22.cv2.2.1.bn.running_var', 'model.model.22.cv2.2.1.bn.num_batches_tracked', 'model.model.22.cv2.2.2.weight', 'model.model.22.cv2.2.2.bias', 'model.model.22.cv3.0.0.conv.weight', 'model.model.22.cv3.0.0.bn.weight', 'model.model.22.cv3.0.0.bn.bias', 'model.model.22.cv3.0.0.bn.running_mean', 'model.model.22.cv3.0.0.bn.running_var', 'model.model.22.cv3.0.0.bn.num_batches_tracked', 'model.model.22.cv3.0.1.conv.weight', 'model.model.22.cv3.0.1.bn.weight', 'model.model.22.cv3.0.1.bn.bias', 'model.model.22.cv3.0.1.bn.running_mean', 'model.model.22.cv3.0.1.bn.running_var', 'model.model.22.cv3.0.1.bn.num_batches_tracked', 'model.model.22.cv3.0.2.weight', 'model.model.22.cv3.0.2.bias', 'model.model.22.cv3.1.0.conv.weight', 'model.model.22.cv3.1.0.bn.weight', 'model.model.22.cv3.1.0.bn.bias', 'model.model.22.cv3.1.0.bn.running_mean', 'model.model.22.cv3.1.0.bn.running_var', 'model.model.22.cv3.1.0.bn.num_batches_tracked', 'model.model.22.cv3.1.1.conv.weight', 'model.model.22.cv3.1.1.bn.weight', 'model.model.22.cv3.1.1.bn.bias', 'model.model.22.cv3.1.1.bn.running_mean', 'model.model.22.cv3.1.1.bn.running_var', 'model.model.22.cv3.1.1.bn.num_batches_tracked', 'model.model.22.cv3.1.2.weight', 'model.model.22.cv3.1.2.bias', 'model.model.22.cv3.2.0.conv.weight', 'model.model.22.cv3.2.0.bn.weight', 'model.model.22.cv3.2.0.bn.bias', 'model.model.22.cv3.2.0.bn.running_mean', 'model.model.22.cv3.2.0.bn.running_var', 'model.model.22.cv3.2.0.bn.num_batches_tracked', 'model.model.22.cv3.2.1.conv.weight', 'model.model.22.cv3.2.1.bn.weight', 'model.model.22.cv3.2.1.bn.bias', 'model.model.22.cv3.2.1.bn.running_mean', 'model.model.22.cv3.2.1.bn.running_var', 'model.model.22.cv3.2.1.bn.num_batches_tracked', 'model.model.22.cv3.2.2.weight', 'model.model.22.cv3.2.2.bias', 'model.model.22.dfl.conv.weight', 'model.model.23.cv2.0.0.conv.weight', 'model.model.23.cv2.0.0.bn.weight', 'model.model.23.cv2.0.0.bn.bias', 'model.model.23.cv2.0.0.bn.running_mean', 'model.model.23.cv2.0.0.bn.running_var', 'model.model.23.cv2.0.0.bn.num_batches_tracked', 'model.model.23.cv2.0.1.conv.weight', 'model.model.23.cv2.0.1.bn.weight', 'model.model.23.cv2.0.1.bn.bias', 'model.model.23.cv2.0.1.bn.running_mean', 'model.model.23.cv2.0.1.bn.running_var', 'model.model.23.cv2.0.1.bn.num_batches_tracked', 'model.model.23.cv2.0.2.weight', 'model.model.23.cv2.0.2.bias', 'model.model.23.cv2.1.0.conv.weight', 'model.model.23.cv2.1.0.bn.weight', 'model.model.23.cv2.1.0.bn.bias', 'model.model.23.cv2.1.0.bn.running_mean', 'model.model.23.cv2.1.0.bn.running_var', 'model.model.23.cv2.1.0.bn.num_batches_tracked', 'model.model.23.cv2.1.1.conv.weight', 'model.model.23.cv2.1.1.bn.weight', 'model.model.23.cv2.1.1.bn.bias', 'model.model.23.cv2.1.1.bn.running_mean', 'model.model.23.cv2.1.1.bn.running_var', 'model.model.23.cv2.1.1.bn.num_batches_tracked', 'model.model.23.cv2.1.2.weight', 'model.model.23.cv2.1.2.bias', 'model.model.23.cv2.2.0.conv.weight', 'model.model.23.cv2.2.0.bn.weight', 'model.model.23.cv2.2.0.bn.bias', 'model.model.23.cv2.2.0.bn.running_mean', 'model.model.23.cv2.2.0.bn.running_var', 'model.model.23.cv2.2.0.bn.num_batches_tracked', 'model.model.23.cv2.2.1.conv.weight', 'model.model.23.cv2.2.1.bn.weight', 'model.model.23.cv2.2.1.bn.bias', 'model.model.23.cv2.2.1.bn.running_mean', 'model.model.23.cv2.2.1.bn.running_var', 'model.model.23.cv2.2.1.bn.num_batches_tracked', 'model.model.23.cv2.2.2.weight', 'model.model.23.cv2.2.2.bias', 'model.model.23.cv3.0.0.conv.weight', 'model.model.23.cv3.0.0.bn.weight', 'model.model.23.cv3.0.0.bn.bias', 'model.model.23.cv3.0.0.bn.running_mean', 'model.model.23.cv3.0.0.bn.running_var', 'model.model.23.cv3.0.0.bn.num_batches_tracked', 'model.model.23.cv3.0.1.conv.weight', 'model.model.23.cv3.0.1.bn.weight', 'model.model.23.cv3.0.1.bn.bias', 'model.model.23.cv3.0.1.bn.running_mean', 'model.model.23.cv3.0.1.bn.running_var', 'model.model.23.cv3.0.1.bn.num_batches_tracked', 'model.model.23.cv3.0.2.weight', 'model.model.23.cv3.0.2.bias', 'model.model.23.cv3.1.0.conv.weight', 'model.model.23.cv3.1.0.bn.weight', 'model.model.23.cv3.1.0.bn.bias', 'model.model.23.cv3.1.0.bn.running_mean', 'model.model.23.cv3.1.0.bn.running_var', 'model.model.23.cv3.1.0.bn.num_batches_tracked', 'model.model.23.cv3.1.1.conv.weight', 'model.model.23.cv3.1.1.bn.weight', 'model.model.23.cv3.1.1.bn.bias', 'model.model.23.cv3.1.1.bn.running_mean', 'model.model.23.cv3.1.1.bn.running_var', 'model.model.23.cv3.1.1.bn.num_batches_tracked', 'model.model.23.cv3.1.2.weight', 'model.model.23.cv3.1.2.bias', 'model.model.23.cv3.2.0.conv.weight', 'model.model.23.cv3.2.0.bn.weight', 'model.model.23.cv3.2.0.bn.bias', 'model.model.23.cv3.2.0.bn.running_mean', 'model.model.23.cv3.2.0.bn.running_var', 'model.model.23.cv3.2.0.bn.num_batches_tracked', 'model.model.23.cv3.2.1.conv.weight', 'model.model.23.cv3.2.1.bn.weight', 'model.model.23.cv3.2.1.bn.bias', 'model.model.23.cv3.2.1.bn.running_mean', 'model.model.23.cv3.2.1.bn.running_var', 'model.model.23.cv3.2.1.bn.num_batches_tracked', 'model.model.23.cv3.2.2.weight', 'model.model.23.cv3.2.2.bias', 'model.model.23.dfl.conv.weight'])"
      ]
     },
     "execution_count": 16,
     "metadata": {},
     "output_type": "execute_result"
    }
   ],
   "source": [
    "model_2.state_dict().keys()"
   ]
  },
  {
   "cell_type": "code",
   "execution_count": 17,
   "metadata": {},
   "outputs": [],
   "source": [
    "state_dict = torch.load(\"yolov8x_lp.pth\")"
   ]
  },
  {
   "cell_type": "code",
   "execution_count": 18,
   "metadata": {},
   "outputs": [
    {
     "data": {
      "text/plain": [
       "dict_keys(['model.model.23.cv2.0.0.conv.weight', 'model.model.23.cv2.0.0.bn.weight', 'model.model.23.cv2.0.0.bn.bias', 'model.model.23.cv2.0.0.bn.running_mean', 'model.model.23.cv2.0.0.bn.running_var', 'model.model.23.cv2.0.0.bn.num_batches_tracked', 'model.model.23.cv2.0.1.conv.weight', 'model.model.23.cv2.0.1.bn.weight', 'model.model.23.cv2.0.1.bn.bias', 'model.model.23.cv2.0.1.bn.running_mean', 'model.model.23.cv2.0.1.bn.running_var', 'model.model.23.cv2.0.1.bn.num_batches_tracked', 'model.model.23.cv2.0.2.weight', 'model.model.23.cv2.0.2.bias', 'model.model.23.cv2.1.0.conv.weight', 'model.model.23.cv2.1.0.bn.weight', 'model.model.23.cv2.1.0.bn.bias', 'model.model.23.cv2.1.0.bn.running_mean', 'model.model.23.cv2.1.0.bn.running_var', 'model.model.23.cv2.1.0.bn.num_batches_tracked', 'model.model.23.cv2.1.1.conv.weight', 'model.model.23.cv2.1.1.bn.weight', 'model.model.23.cv2.1.1.bn.bias', 'model.model.23.cv2.1.1.bn.running_mean', 'model.model.23.cv2.1.1.bn.running_var', 'model.model.23.cv2.1.1.bn.num_batches_tracked', 'model.model.23.cv2.1.2.weight', 'model.model.23.cv2.1.2.bias', 'model.model.23.cv2.2.0.conv.weight', 'model.model.23.cv2.2.0.bn.weight', 'model.model.23.cv2.2.0.bn.bias', 'model.model.23.cv2.2.0.bn.running_mean', 'model.model.23.cv2.2.0.bn.running_var', 'model.model.23.cv2.2.0.bn.num_batches_tracked', 'model.model.23.cv2.2.1.conv.weight', 'model.model.23.cv2.2.1.bn.weight', 'model.model.23.cv2.2.1.bn.bias', 'model.model.23.cv2.2.1.bn.running_mean', 'model.model.23.cv2.2.1.bn.running_var', 'model.model.23.cv2.2.1.bn.num_batches_tracked', 'model.model.23.cv2.2.2.weight', 'model.model.23.cv2.2.2.bias', 'model.model.23.cv3.0.0.conv.weight', 'model.model.23.cv3.0.0.bn.weight', 'model.model.23.cv3.0.0.bn.bias', 'model.model.23.cv3.0.0.bn.running_mean', 'model.model.23.cv3.0.0.bn.running_var', 'model.model.23.cv3.0.0.bn.num_batches_tracked', 'model.model.23.cv3.0.1.conv.weight', 'model.model.23.cv3.0.1.bn.weight', 'model.model.23.cv3.0.1.bn.bias', 'model.model.23.cv3.0.1.bn.running_mean', 'model.model.23.cv3.0.1.bn.running_var', 'model.model.23.cv3.0.1.bn.num_batches_tracked', 'model.model.23.cv3.0.2.weight', 'model.model.23.cv3.0.2.bias', 'model.model.23.cv3.1.0.conv.weight', 'model.model.23.cv3.1.0.bn.weight', 'model.model.23.cv3.1.0.bn.bias', 'model.model.23.cv3.1.0.bn.running_mean', 'model.model.23.cv3.1.0.bn.running_var', 'model.model.23.cv3.1.0.bn.num_batches_tracked', 'model.model.23.cv3.1.1.conv.weight', 'model.model.23.cv3.1.1.bn.weight', 'model.model.23.cv3.1.1.bn.bias', 'model.model.23.cv3.1.1.bn.running_mean', 'model.model.23.cv3.1.1.bn.running_var', 'model.model.23.cv3.1.1.bn.num_batches_tracked', 'model.model.23.cv3.1.2.weight', 'model.model.23.cv3.1.2.bias', 'model.model.23.cv3.2.0.conv.weight', 'model.model.23.cv3.2.0.bn.weight', 'model.model.23.cv3.2.0.bn.bias', 'model.model.23.cv3.2.0.bn.running_mean', 'model.model.23.cv3.2.0.bn.running_var', 'model.model.23.cv3.2.0.bn.num_batches_tracked', 'model.model.23.cv3.2.1.conv.weight', 'model.model.23.cv3.2.1.bn.weight', 'model.model.23.cv3.2.1.bn.bias', 'model.model.23.cv3.2.1.bn.running_mean', 'model.model.23.cv3.2.1.bn.running_var', 'model.model.23.cv3.2.1.bn.num_batches_tracked', 'model.model.23.cv3.2.2.weight', 'model.model.23.cv3.2.2.bias', 'model.model.23.dfl.conv.weight'])"
      ]
     },
     "execution_count": 18,
     "metadata": {},
     "output_type": "execute_result"
    }
   ],
   "source": [
    "state_dict.keys()"
   ]
  },
  {
   "cell_type": "code",
   "execution_count": 19,
   "metadata": {},
   "outputs": [
    {
     "data": {
      "text/plain": [
       "_IncompatibleKeys(missing_keys=['model.model.0.conv.weight', 'model.model.0.bn.weight', 'model.model.0.bn.bias', 'model.model.0.bn.running_mean', 'model.model.0.bn.running_var', 'model.model.1.conv.weight', 'model.model.1.bn.weight', 'model.model.1.bn.bias', 'model.model.1.bn.running_mean', 'model.model.1.bn.running_var', 'model.model.2.cv1.conv.weight', 'model.model.2.cv1.bn.weight', 'model.model.2.cv1.bn.bias', 'model.model.2.cv1.bn.running_mean', 'model.model.2.cv1.bn.running_var', 'model.model.2.cv2.conv.weight', 'model.model.2.cv2.bn.weight', 'model.model.2.cv2.bn.bias', 'model.model.2.cv2.bn.running_mean', 'model.model.2.cv2.bn.running_var', 'model.model.2.m.0.cv1.conv.weight', 'model.model.2.m.0.cv1.bn.weight', 'model.model.2.m.0.cv1.bn.bias', 'model.model.2.m.0.cv1.bn.running_mean', 'model.model.2.m.0.cv1.bn.running_var', 'model.model.2.m.0.cv2.conv.weight', 'model.model.2.m.0.cv2.bn.weight', 'model.model.2.m.0.cv2.bn.bias', 'model.model.2.m.0.cv2.bn.running_mean', 'model.model.2.m.0.cv2.bn.running_var', 'model.model.2.m.1.cv1.conv.weight', 'model.model.2.m.1.cv1.bn.weight', 'model.model.2.m.1.cv1.bn.bias', 'model.model.2.m.1.cv1.bn.running_mean', 'model.model.2.m.1.cv1.bn.running_var', 'model.model.2.m.1.cv2.conv.weight', 'model.model.2.m.1.cv2.bn.weight', 'model.model.2.m.1.cv2.bn.bias', 'model.model.2.m.1.cv2.bn.running_mean', 'model.model.2.m.1.cv2.bn.running_var', 'model.model.2.m.2.cv1.conv.weight', 'model.model.2.m.2.cv1.bn.weight', 'model.model.2.m.2.cv1.bn.bias', 'model.model.2.m.2.cv1.bn.running_mean', 'model.model.2.m.2.cv1.bn.running_var', 'model.model.2.m.2.cv2.conv.weight', 'model.model.2.m.2.cv2.bn.weight', 'model.model.2.m.2.cv2.bn.bias', 'model.model.2.m.2.cv2.bn.running_mean', 'model.model.2.m.2.cv2.bn.running_var', 'model.model.3.conv.weight', 'model.model.3.bn.weight', 'model.model.3.bn.bias', 'model.model.3.bn.running_mean', 'model.model.3.bn.running_var', 'model.model.4.cv1.conv.weight', 'model.model.4.cv1.bn.weight', 'model.model.4.cv1.bn.bias', 'model.model.4.cv1.bn.running_mean', 'model.model.4.cv1.bn.running_var', 'model.model.4.cv2.conv.weight', 'model.model.4.cv2.bn.weight', 'model.model.4.cv2.bn.bias', 'model.model.4.cv2.bn.running_mean', 'model.model.4.cv2.bn.running_var', 'model.model.4.m.0.cv1.conv.weight', 'model.model.4.m.0.cv1.bn.weight', 'model.model.4.m.0.cv1.bn.bias', 'model.model.4.m.0.cv1.bn.running_mean', 'model.model.4.m.0.cv1.bn.running_var', 'model.model.4.m.0.cv2.conv.weight', 'model.model.4.m.0.cv2.bn.weight', 'model.model.4.m.0.cv2.bn.bias', 'model.model.4.m.0.cv2.bn.running_mean', 'model.model.4.m.0.cv2.bn.running_var', 'model.model.4.m.1.cv1.conv.weight', 'model.model.4.m.1.cv1.bn.weight', 'model.model.4.m.1.cv1.bn.bias', 'model.model.4.m.1.cv1.bn.running_mean', 'model.model.4.m.1.cv1.bn.running_var', 'model.model.4.m.1.cv2.conv.weight', 'model.model.4.m.1.cv2.bn.weight', 'model.model.4.m.1.cv2.bn.bias', 'model.model.4.m.1.cv2.bn.running_mean', 'model.model.4.m.1.cv2.bn.running_var', 'model.model.4.m.2.cv1.conv.weight', 'model.model.4.m.2.cv1.bn.weight', 'model.model.4.m.2.cv1.bn.bias', 'model.model.4.m.2.cv1.bn.running_mean', 'model.model.4.m.2.cv1.bn.running_var', 'model.model.4.m.2.cv2.conv.weight', 'model.model.4.m.2.cv2.bn.weight', 'model.model.4.m.2.cv2.bn.bias', 'model.model.4.m.2.cv2.bn.running_mean', 'model.model.4.m.2.cv2.bn.running_var', 'model.model.4.m.3.cv1.conv.weight', 'model.model.4.m.3.cv1.bn.weight', 'model.model.4.m.3.cv1.bn.bias', 'model.model.4.m.3.cv1.bn.running_mean', 'model.model.4.m.3.cv1.bn.running_var', 'model.model.4.m.3.cv2.conv.weight', 'model.model.4.m.3.cv2.bn.weight', 'model.model.4.m.3.cv2.bn.bias', 'model.model.4.m.3.cv2.bn.running_mean', 'model.model.4.m.3.cv2.bn.running_var', 'model.model.4.m.4.cv1.conv.weight', 'model.model.4.m.4.cv1.bn.weight', 'model.model.4.m.4.cv1.bn.bias', 'model.model.4.m.4.cv1.bn.running_mean', 'model.model.4.m.4.cv1.bn.running_var', 'model.model.4.m.4.cv2.conv.weight', 'model.model.4.m.4.cv2.bn.weight', 'model.model.4.m.4.cv2.bn.bias', 'model.model.4.m.4.cv2.bn.running_mean', 'model.model.4.m.4.cv2.bn.running_var', 'model.model.4.m.5.cv1.conv.weight', 'model.model.4.m.5.cv1.bn.weight', 'model.model.4.m.5.cv1.bn.bias', 'model.model.4.m.5.cv1.bn.running_mean', 'model.model.4.m.5.cv1.bn.running_var', 'model.model.4.m.5.cv2.conv.weight', 'model.model.4.m.5.cv2.bn.weight', 'model.model.4.m.5.cv2.bn.bias', 'model.model.4.m.5.cv2.bn.running_mean', 'model.model.4.m.5.cv2.bn.running_var', 'model.model.5.conv.weight', 'model.model.5.bn.weight', 'model.model.5.bn.bias', 'model.model.5.bn.running_mean', 'model.model.5.bn.running_var', 'model.model.6.cv1.conv.weight', 'model.model.6.cv1.bn.weight', 'model.model.6.cv1.bn.bias', 'model.model.6.cv1.bn.running_mean', 'model.model.6.cv1.bn.running_var', 'model.model.6.cv2.conv.weight', 'model.model.6.cv2.bn.weight', 'model.model.6.cv2.bn.bias', 'model.model.6.cv2.bn.running_mean', 'model.model.6.cv2.bn.running_var', 'model.model.6.m.0.cv1.conv.weight', 'model.model.6.m.0.cv1.bn.weight', 'model.model.6.m.0.cv1.bn.bias', 'model.model.6.m.0.cv1.bn.running_mean', 'model.model.6.m.0.cv1.bn.running_var', 'model.model.6.m.0.cv2.conv.weight', 'model.model.6.m.0.cv2.bn.weight', 'model.model.6.m.0.cv2.bn.bias', 'model.model.6.m.0.cv2.bn.running_mean', 'model.model.6.m.0.cv2.bn.running_var', 'model.model.6.m.1.cv1.conv.weight', 'model.model.6.m.1.cv1.bn.weight', 'model.model.6.m.1.cv1.bn.bias', 'model.model.6.m.1.cv1.bn.running_mean', 'model.model.6.m.1.cv1.bn.running_var', 'model.model.6.m.1.cv2.conv.weight', 'model.model.6.m.1.cv2.bn.weight', 'model.model.6.m.1.cv2.bn.bias', 'model.model.6.m.1.cv2.bn.running_mean', 'model.model.6.m.1.cv2.bn.running_var', 'model.model.6.m.2.cv1.conv.weight', 'model.model.6.m.2.cv1.bn.weight', 'model.model.6.m.2.cv1.bn.bias', 'model.model.6.m.2.cv1.bn.running_mean', 'model.model.6.m.2.cv1.bn.running_var', 'model.model.6.m.2.cv2.conv.weight', 'model.model.6.m.2.cv2.bn.weight', 'model.model.6.m.2.cv2.bn.bias', 'model.model.6.m.2.cv2.bn.running_mean', 'model.model.6.m.2.cv2.bn.running_var', 'model.model.6.m.3.cv1.conv.weight', 'model.model.6.m.3.cv1.bn.weight', 'model.model.6.m.3.cv1.bn.bias', 'model.model.6.m.3.cv1.bn.running_mean', 'model.model.6.m.3.cv1.bn.running_var', 'model.model.6.m.3.cv2.conv.weight', 'model.model.6.m.3.cv2.bn.weight', 'model.model.6.m.3.cv2.bn.bias', 'model.model.6.m.3.cv2.bn.running_mean', 'model.model.6.m.3.cv2.bn.running_var', 'model.model.6.m.4.cv1.conv.weight', 'model.model.6.m.4.cv1.bn.weight', 'model.model.6.m.4.cv1.bn.bias', 'model.model.6.m.4.cv1.bn.running_mean', 'model.model.6.m.4.cv1.bn.running_var', 'model.model.6.m.4.cv2.conv.weight', 'model.model.6.m.4.cv2.bn.weight', 'model.model.6.m.4.cv2.bn.bias', 'model.model.6.m.4.cv2.bn.running_mean', 'model.model.6.m.4.cv2.bn.running_var', 'model.model.6.m.5.cv1.conv.weight', 'model.model.6.m.5.cv1.bn.weight', 'model.model.6.m.5.cv1.bn.bias', 'model.model.6.m.5.cv1.bn.running_mean', 'model.model.6.m.5.cv1.bn.running_var', 'model.model.6.m.5.cv2.conv.weight', 'model.model.6.m.5.cv2.bn.weight', 'model.model.6.m.5.cv2.bn.bias', 'model.model.6.m.5.cv2.bn.running_mean', 'model.model.6.m.5.cv2.bn.running_var', 'model.model.7.conv.weight', 'model.model.7.bn.weight', 'model.model.7.bn.bias', 'model.model.7.bn.running_mean', 'model.model.7.bn.running_var', 'model.model.8.cv1.conv.weight', 'model.model.8.cv1.bn.weight', 'model.model.8.cv1.bn.bias', 'model.model.8.cv1.bn.running_mean', 'model.model.8.cv1.bn.running_var', 'model.model.8.cv2.conv.weight', 'model.model.8.cv2.bn.weight', 'model.model.8.cv2.bn.bias', 'model.model.8.cv2.bn.running_mean', 'model.model.8.cv2.bn.running_var', 'model.model.8.m.0.cv1.conv.weight', 'model.model.8.m.0.cv1.bn.weight', 'model.model.8.m.0.cv1.bn.bias', 'model.model.8.m.0.cv1.bn.running_mean', 'model.model.8.m.0.cv1.bn.running_var', 'model.model.8.m.0.cv2.conv.weight', 'model.model.8.m.0.cv2.bn.weight', 'model.model.8.m.0.cv2.bn.bias', 'model.model.8.m.0.cv2.bn.running_mean', 'model.model.8.m.0.cv2.bn.running_var', 'model.model.8.m.1.cv1.conv.weight', 'model.model.8.m.1.cv1.bn.weight', 'model.model.8.m.1.cv1.bn.bias', 'model.model.8.m.1.cv1.bn.running_mean', 'model.model.8.m.1.cv1.bn.running_var', 'model.model.8.m.1.cv2.conv.weight', 'model.model.8.m.1.cv2.bn.weight', 'model.model.8.m.1.cv2.bn.bias', 'model.model.8.m.1.cv2.bn.running_mean', 'model.model.8.m.1.cv2.bn.running_var', 'model.model.8.m.2.cv1.conv.weight', 'model.model.8.m.2.cv1.bn.weight', 'model.model.8.m.2.cv1.bn.bias', 'model.model.8.m.2.cv1.bn.running_mean', 'model.model.8.m.2.cv1.bn.running_var', 'model.model.8.m.2.cv2.conv.weight', 'model.model.8.m.2.cv2.bn.weight', 'model.model.8.m.2.cv2.bn.bias', 'model.model.8.m.2.cv2.bn.running_mean', 'model.model.8.m.2.cv2.bn.running_var', 'model.model.9.cv1.conv.weight', 'model.model.9.cv1.bn.weight', 'model.model.9.cv1.bn.bias', 'model.model.9.cv1.bn.running_mean', 'model.model.9.cv1.bn.running_var', 'model.model.9.cv2.conv.weight', 'model.model.9.cv2.bn.weight', 'model.model.9.cv2.bn.bias', 'model.model.9.cv2.bn.running_mean', 'model.model.9.cv2.bn.running_var', 'model.model.12.cv1.conv.weight', 'model.model.12.cv1.bn.weight', 'model.model.12.cv1.bn.bias', 'model.model.12.cv1.bn.running_mean', 'model.model.12.cv1.bn.running_var', 'model.model.12.cv2.conv.weight', 'model.model.12.cv2.bn.weight', 'model.model.12.cv2.bn.bias', 'model.model.12.cv2.bn.running_mean', 'model.model.12.cv2.bn.running_var', 'model.model.12.m.0.cv1.conv.weight', 'model.model.12.m.0.cv1.bn.weight', 'model.model.12.m.0.cv1.bn.bias', 'model.model.12.m.0.cv1.bn.running_mean', 'model.model.12.m.0.cv1.bn.running_var', 'model.model.12.m.0.cv2.conv.weight', 'model.model.12.m.0.cv2.bn.weight', 'model.model.12.m.0.cv2.bn.bias', 'model.model.12.m.0.cv2.bn.running_mean', 'model.model.12.m.0.cv2.bn.running_var', 'model.model.12.m.1.cv1.conv.weight', 'model.model.12.m.1.cv1.bn.weight', 'model.model.12.m.1.cv1.bn.bias', 'model.model.12.m.1.cv1.bn.running_mean', 'model.model.12.m.1.cv1.bn.running_var', 'model.model.12.m.1.cv2.conv.weight', 'model.model.12.m.1.cv2.bn.weight', 'model.model.12.m.1.cv2.bn.bias', 'model.model.12.m.1.cv2.bn.running_mean', 'model.model.12.m.1.cv2.bn.running_var', 'model.model.12.m.2.cv1.conv.weight', 'model.model.12.m.2.cv1.bn.weight', 'model.model.12.m.2.cv1.bn.bias', 'model.model.12.m.2.cv1.bn.running_mean', 'model.model.12.m.2.cv1.bn.running_var', 'model.model.12.m.2.cv2.conv.weight', 'model.model.12.m.2.cv2.bn.weight', 'model.model.12.m.2.cv2.bn.bias', 'model.model.12.m.2.cv2.bn.running_mean', 'model.model.12.m.2.cv2.bn.running_var', 'model.model.15.cv1.conv.weight', 'model.model.15.cv1.bn.weight', 'model.model.15.cv1.bn.bias', 'model.model.15.cv1.bn.running_mean', 'model.model.15.cv1.bn.running_var', 'model.model.15.cv2.conv.weight', 'model.model.15.cv2.bn.weight', 'model.model.15.cv2.bn.bias', 'model.model.15.cv2.bn.running_mean', 'model.model.15.cv2.bn.running_var', 'model.model.15.m.0.cv1.conv.weight', 'model.model.15.m.0.cv1.bn.weight', 'model.model.15.m.0.cv1.bn.bias', 'model.model.15.m.0.cv1.bn.running_mean', 'model.model.15.m.0.cv1.bn.running_var', 'model.model.15.m.0.cv2.conv.weight', 'model.model.15.m.0.cv2.bn.weight', 'model.model.15.m.0.cv2.bn.bias', 'model.model.15.m.0.cv2.bn.running_mean', 'model.model.15.m.0.cv2.bn.running_var', 'model.model.15.m.1.cv1.conv.weight', 'model.model.15.m.1.cv1.bn.weight', 'model.model.15.m.1.cv1.bn.bias', 'model.model.15.m.1.cv1.bn.running_mean', 'model.model.15.m.1.cv1.bn.running_var', 'model.model.15.m.1.cv2.conv.weight', 'model.model.15.m.1.cv2.bn.weight', 'model.model.15.m.1.cv2.bn.bias', 'model.model.15.m.1.cv2.bn.running_mean', 'model.model.15.m.1.cv2.bn.running_var', 'model.model.15.m.2.cv1.conv.weight', 'model.model.15.m.2.cv1.bn.weight', 'model.model.15.m.2.cv1.bn.bias', 'model.model.15.m.2.cv1.bn.running_mean', 'model.model.15.m.2.cv1.bn.running_var', 'model.model.15.m.2.cv2.conv.weight', 'model.model.15.m.2.cv2.bn.weight', 'model.model.15.m.2.cv2.bn.bias', 'model.model.15.m.2.cv2.bn.running_mean', 'model.model.15.m.2.cv2.bn.running_var', 'model.model.16.conv.weight', 'model.model.16.bn.weight', 'model.model.16.bn.bias', 'model.model.16.bn.running_mean', 'model.model.16.bn.running_var', 'model.model.18.cv1.conv.weight', 'model.model.18.cv1.bn.weight', 'model.model.18.cv1.bn.bias', 'model.model.18.cv1.bn.running_mean', 'model.model.18.cv1.bn.running_var', 'model.model.18.cv2.conv.weight', 'model.model.18.cv2.bn.weight', 'model.model.18.cv2.bn.bias', 'model.model.18.cv2.bn.running_mean', 'model.model.18.cv2.bn.running_var', 'model.model.18.m.0.cv1.conv.weight', 'model.model.18.m.0.cv1.bn.weight', 'model.model.18.m.0.cv1.bn.bias', 'model.model.18.m.0.cv1.bn.running_mean', 'model.model.18.m.0.cv1.bn.running_var', 'model.model.18.m.0.cv2.conv.weight', 'model.model.18.m.0.cv2.bn.weight', 'model.model.18.m.0.cv2.bn.bias', 'model.model.18.m.0.cv2.bn.running_mean', 'model.model.18.m.0.cv2.bn.running_var', 'model.model.18.m.1.cv1.conv.weight', 'model.model.18.m.1.cv1.bn.weight', 'model.model.18.m.1.cv1.bn.bias', 'model.model.18.m.1.cv1.bn.running_mean', 'model.model.18.m.1.cv1.bn.running_var', 'model.model.18.m.1.cv2.conv.weight', 'model.model.18.m.1.cv2.bn.weight', 'model.model.18.m.1.cv2.bn.bias', 'model.model.18.m.1.cv2.bn.running_mean', 'model.model.18.m.1.cv2.bn.running_var', 'model.model.18.m.2.cv1.conv.weight', 'model.model.18.m.2.cv1.bn.weight', 'model.model.18.m.2.cv1.bn.bias', 'model.model.18.m.2.cv1.bn.running_mean', 'model.model.18.m.2.cv1.bn.running_var', 'model.model.18.m.2.cv2.conv.weight', 'model.model.18.m.2.cv2.bn.weight', 'model.model.18.m.2.cv2.bn.bias', 'model.model.18.m.2.cv2.bn.running_mean', 'model.model.18.m.2.cv2.bn.running_var', 'model.model.19.conv.weight', 'model.model.19.bn.weight', 'model.model.19.bn.bias', 'model.model.19.bn.running_mean', 'model.model.19.bn.running_var', 'model.model.21.cv1.conv.weight', 'model.model.21.cv1.bn.weight', 'model.model.21.cv1.bn.bias', 'model.model.21.cv1.bn.running_mean', 'model.model.21.cv1.bn.running_var', 'model.model.21.cv2.conv.weight', 'model.model.21.cv2.bn.weight', 'model.model.21.cv2.bn.bias', 'model.model.21.cv2.bn.running_mean', 'model.model.21.cv2.bn.running_var', 'model.model.21.m.0.cv1.conv.weight', 'model.model.21.m.0.cv1.bn.weight', 'model.model.21.m.0.cv1.bn.bias', 'model.model.21.m.0.cv1.bn.running_mean', 'model.model.21.m.0.cv1.bn.running_var', 'model.model.21.m.0.cv2.conv.weight', 'model.model.21.m.0.cv2.bn.weight', 'model.model.21.m.0.cv2.bn.bias', 'model.model.21.m.0.cv2.bn.running_mean', 'model.model.21.m.0.cv2.bn.running_var', 'model.model.21.m.1.cv1.conv.weight', 'model.model.21.m.1.cv1.bn.weight', 'model.model.21.m.1.cv1.bn.bias', 'model.model.21.m.1.cv1.bn.running_mean', 'model.model.21.m.1.cv1.bn.running_var', 'model.model.21.m.1.cv2.conv.weight', 'model.model.21.m.1.cv2.bn.weight', 'model.model.21.m.1.cv2.bn.bias', 'model.model.21.m.1.cv2.bn.running_mean', 'model.model.21.m.1.cv2.bn.running_var', 'model.model.21.m.2.cv1.conv.weight', 'model.model.21.m.2.cv1.bn.weight', 'model.model.21.m.2.cv1.bn.bias', 'model.model.21.m.2.cv1.bn.running_mean', 'model.model.21.m.2.cv1.bn.running_var', 'model.model.21.m.2.cv2.conv.weight', 'model.model.21.m.2.cv2.bn.weight', 'model.model.21.m.2.cv2.bn.bias', 'model.model.21.m.2.cv2.bn.running_mean', 'model.model.21.m.2.cv2.bn.running_var', 'model.model.22.cv2.0.0.conv.weight', 'model.model.22.cv2.0.0.bn.weight', 'model.model.22.cv2.0.0.bn.bias', 'model.model.22.cv2.0.0.bn.running_mean', 'model.model.22.cv2.0.0.bn.running_var', 'model.model.22.cv2.0.1.conv.weight', 'model.model.22.cv2.0.1.bn.weight', 'model.model.22.cv2.0.1.bn.bias', 'model.model.22.cv2.0.1.bn.running_mean', 'model.model.22.cv2.0.1.bn.running_var', 'model.model.22.cv2.0.2.weight', 'model.model.22.cv2.0.2.bias', 'model.model.22.cv2.1.0.conv.weight', 'model.model.22.cv2.1.0.bn.weight', 'model.model.22.cv2.1.0.bn.bias', 'model.model.22.cv2.1.0.bn.running_mean', 'model.model.22.cv2.1.0.bn.running_var', 'model.model.22.cv2.1.1.conv.weight', 'model.model.22.cv2.1.1.bn.weight', 'model.model.22.cv2.1.1.bn.bias', 'model.model.22.cv2.1.1.bn.running_mean', 'model.model.22.cv2.1.1.bn.running_var', 'model.model.22.cv2.1.2.weight', 'model.model.22.cv2.1.2.bias', 'model.model.22.cv2.2.0.conv.weight', 'model.model.22.cv2.2.0.bn.weight', 'model.model.22.cv2.2.0.bn.bias', 'model.model.22.cv2.2.0.bn.running_mean', 'model.model.22.cv2.2.0.bn.running_var', 'model.model.22.cv2.2.1.conv.weight', 'model.model.22.cv2.2.1.bn.weight', 'model.model.22.cv2.2.1.bn.bias', 'model.model.22.cv2.2.1.bn.running_mean', 'model.model.22.cv2.2.1.bn.running_var', 'model.model.22.cv2.2.2.weight', 'model.model.22.cv2.2.2.bias', 'model.model.22.cv3.0.0.conv.weight', 'model.model.22.cv3.0.0.bn.weight', 'model.model.22.cv3.0.0.bn.bias', 'model.model.22.cv3.0.0.bn.running_mean', 'model.model.22.cv3.0.0.bn.running_var', 'model.model.22.cv3.0.1.conv.weight', 'model.model.22.cv3.0.1.bn.weight', 'model.model.22.cv3.0.1.bn.bias', 'model.model.22.cv3.0.1.bn.running_mean', 'model.model.22.cv3.0.1.bn.running_var', 'model.model.22.cv3.0.2.weight', 'model.model.22.cv3.0.2.bias', 'model.model.22.cv3.1.0.conv.weight', 'model.model.22.cv3.1.0.bn.weight', 'model.model.22.cv3.1.0.bn.bias', 'model.model.22.cv3.1.0.bn.running_mean', 'model.model.22.cv3.1.0.bn.running_var', 'model.model.22.cv3.1.1.conv.weight', 'model.model.22.cv3.1.1.bn.weight', 'model.model.22.cv3.1.1.bn.bias', 'model.model.22.cv3.1.1.bn.running_mean', 'model.model.22.cv3.1.1.bn.running_var', 'model.model.22.cv3.1.2.weight', 'model.model.22.cv3.1.2.bias', 'model.model.22.cv3.2.0.conv.weight', 'model.model.22.cv3.2.0.bn.weight', 'model.model.22.cv3.2.0.bn.bias', 'model.model.22.cv3.2.0.bn.running_mean', 'model.model.22.cv3.2.0.bn.running_var', 'model.model.22.cv3.2.1.conv.weight', 'model.model.22.cv3.2.1.bn.weight', 'model.model.22.cv3.2.1.bn.bias', 'model.model.22.cv3.2.1.bn.running_mean', 'model.model.22.cv3.2.1.bn.running_var', 'model.model.22.cv3.2.2.weight', 'model.model.22.cv3.2.2.bias', 'model.model.22.dfl.conv.weight'], unexpected_keys=[])"
      ]
     },
     "execution_count": 19,
     "metadata": {},
     "output_type": "execute_result"
    }
   ],
   "source": [
    "# Load state_dict of the custom trained model head. Layer 23.\n",
    "model_2.load_state_dict(state_dict, strict=False)"
   ]
  },
  {
   "cell_type": "code",
   "execution_count": 20,
   "metadata": {},
   "outputs": [
    {
     "name": "stdout",
     "output_type": "stream",
     "text": [
      "\n",
      "image 1/1 C:\\Users\\Lenovo\\Desktop\\expand1\\test.jpg: 384x640 9 0s, 1 2, 1 5, 2 58s, 144.6ms\n",
      "Speed: 3.0ms preprocess, 144.6ms inference, 2.0ms postprocess per image at shape (1, 3, 384, 640)\n"
     ]
    }
   ],
   "source": [
    "# Output of COCO model\n",
    "model_coco = YOLO(\"yolov8x.pt\")\n",
    "\n",
    "# For consistency\n",
    "model_coco.model.names = {k:k for k in model_coco.names.keys()}\n",
    "\n",
    "result_coco = model_coco.predict(\"C:/Users/Lenovo/Desktop/expand1/test.jpg\")[0]"
   ]
  },
  {
   "cell_type": "code",
   "execution_count": 21,
   "metadata": {},
   "outputs": [
    {
     "name": "stdout",
     "output_type": "stream",
     "text": [
      "\n",
      "image 1/1 C:\\Users\\Lenovo\\Desktop\\expand1\\test.jpg: 192x320 1 0, 72.3ms\n",
      "Speed: 1.0ms preprocess, 72.3ms inference, 3.0ms postprocess per image at shape (1, 3, 192, 320)\n"
     ]
    }
   ],
   "source": [
    "# Output of custom LP model\n",
    "model_lp = YOLO(\"C:/Users/Lenovo/Desktop/expand1/ultralytics/runs/detect/train2/weights/best.pt\")\n",
    "\n",
    "# For plotting consistency, change all class names to class numbers\n",
    "model_lp.model.names = {k:k for k in model_lp.names.keys()}\n",
    "\n",
    "result_lp = model_lp.predict(\"C:/Users/Lenovo/Desktop/expand1/test.jpg\")[0]"
   ]
  },
  {
   "cell_type": "code",
   "execution_count": 22,
   "metadata": {},
   "outputs": [],
   "source": [
    "# import the necessary packages\n",
    "from collections import namedtuple\n",
    "import numpy as np\n",
    "import cv2\n",
    "# define the `Detection` object\n",
    "Detection = namedtuple(\"Detection\", [\"image_path\", \"gt\", \"pred\"])"
   ]
  },
  {
   "cell_type": "code",
   "execution_count": 23,
   "metadata": {},
   "outputs": [],
   "source": [
    "def bb_intersection_over_union(boxA, boxB):\n",
    "\t# determine the (x, y)-coordinates of the intersection rectangle\n",
    "\txA = max(boxA[0], boxB[0])\n",
    "\tyA = max(boxA[1], boxB[1])\n",
    "\txB = min(boxA[2], boxB[2])\n",
    "\tyB = min(boxA[3], boxB[3])\n",
    "\t# compute the area of intersection rectangle\n",
    "\tinterArea = max(0, xB - xA + 1) * max(0, yB - yA + 1)\n",
    "\t# compute the area of both the prediction and ground-truth\n",
    "\t# rectangles\n",
    "\tboxAArea = (boxA[2] - boxA[0] + 1) * (boxA[3] - boxA[1] + 1)\n",
    "\tboxBArea = (boxB[2] - boxB[0] + 1) * (boxB[3] - boxB[1] + 1)\n",
    "\t# compute the intersection over union by taking the intersection\n",
    "\t# area and dividing it by the sum of prediction + ground-truth\n",
    "\t# areas - the interesection area\n",
    "\tiou = interArea / float(boxAArea + boxBArea - interArea)\n",
    "\t# return the intersection over union value\n",
    "\treturn iou"
   ]
  },
  {
   "cell_type": "code",
   "execution_count": 24,
   "metadata": {},
   "outputs": [
    {
     "name": "stdout",
     "output_type": "stream",
     "text": [
      "{0: '0', 1: '1', 2: '2', 3: '3', 4: '4', 5: '5', 6: '6', 7: '7', 8: '8', 9: '9', 10: '10', 11: '11', 12: '12', 13: '13', 14: '14', 15: '15', 16: '16', 17: '17', 18: '18', 19: '19', 20: '20', 21: '21', 22: '22', 23: '23', 24: '24', 25: '25', 26: '26', 27: '27', 28: '28', 29: '29', 30: '30', 31: '31', 32: '32', 33: '33', 34: '34', 35: '35', 36: '36', 37: '37', 38: '38', 39: '39', 40: '40', 41: '41', 42: '42', 43: '43', 44: '44', 45: '45', 46: '46', 47: '47', 48: '48', 49: '49', 50: '50', 51: '51', 52: '52', 53: '53', 54: '54', 55: '55', 56: '56', 57: '57', 58: '58', 59: '59', 60: '60', 61: '61', 62: '62', 63: '63', 64: '64', 65: '65', 66: '66', 67: '67', 68: '68', 69: '69', 70: '70', 71: '71', 72: '72', 73: '73', 74: '74', 75: '75', 76: '76', 77: '77', 78: '78', 79: '79', 80: '80'}\n"
     ]
    }
   ],
   "source": [
    "print(model_2.names)"
   ]
  },
  {
   "cell_type": "code",
   "execution_count": 57,
   "metadata": {},
   "outputs": [],
   "source": [
    "def remove_bus_with_high_iou(result, iou_threshold=0):\n",
    "    \"\"\"\n",
    "    Removes bus labels if they have high IoU with a shuttle label.\n",
    "\n",
    "    Args:\n",
    "        result: A YOLOv8 Results object containing predicted bounding boxes.\n",
    "        iou_threshold (float): The IoU threshold above which a bus label will be removed.\n",
    "    \"\"\"\n",
    "    boxes = result.boxes.xyxy.cpu().numpy()  \n",
    "    classes = result.boxes.cls.cpu().numpy()\n",
    "    print(classes)\n",
    "    # Replace 'bus' and 'autonomous-shuttle' with your actual class names\n",
    "    shuttle_indices = np.where(classes == 80.0)[0] \n",
    "    print(model_2.names[80])\n",
    "    print(shuttle_indices)\n",
    "    bus_indices = np.where(classes == 5.0)[0]\n",
    "    print(bus_indices)\n",
    "    boxes_to_remove = []\n",
    "    for bus_idx in bus_indices:\n",
    "        for shuttle_idx in shuttle_indices:\n",
    "            iou = bb_intersection_over_union(boxes[bus_idx], boxes[shuttle_idx])\n",
    "            if iou > iou_threshold:\n",
    "                boxes_to_remove.append(bus_idx)\n",
    "                break\n",
    "\n",
    "    # Update the boxes directly (not boxes.boxes)\n",
    "    result.boxes = result.boxes[\n",
    "        [i for i in range(len(result.boxes)) if i not in boxes_to_remove]\n",
    "    ]\n",
    "\n",
    "    return result\n"
   ]
  },
  {
   "cell_type": "code",
   "execution_count": 55,
   "metadata": {},
   "outputs": [
    {
     "name": "stdout",
     "output_type": "stream",
     "text": [
      "\n",
      "image 1/1 C:\\Users\\Lenovo\\Desktop\\expand1\\test.jpg: 384x640 9 0s, 1 2, 1 5, 2 58s, 1 80, 278.1ms\n",
      "Speed: 7.0ms preprocess, 278.1ms inference, 2.0ms postprocess per image at shape (1, 3, 384, 640)\n"
     ]
    }
   ],
   "source": [
    "# Output of the new model\n",
    "result_merged = model_2.predict(\"C:/Users/Lenovo/Desktop/expand1/test.jpg\")[0]"
   ]
  },
  {
   "cell_type": "code",
   "execution_count": 58,
   "metadata": {},
   "outputs": [
    {
     "name": "stdout",
     "output_type": "stream",
     "text": [
      "[          2           0          80           0           0           0           0           0           0           0          58          58           0]\n",
      "80\n",
      "[2]\n",
      "[]\n"
     ]
    }
   ],
   "source": [
    "# Apply the custom function\n",
    "result_merged = remove_bus_with_high_iou(result_merged)"
   ]
  },
  {
   "cell_type": "code",
   "execution_count": 59,
   "metadata": {},
   "outputs": [],
   "source": [
    "import matplotlib.pyplot as plt\n",
    "import numpy as np"
   ]
  },
  {
   "cell_type": "code",
   "execution_count": 60,
   "metadata": {},
   "outputs": [],
   "source": [
    "def show_output(images):\n",
    "    image = np.vstack(images)\n",
    "    fig = plt.figure()\n",
    "    ax = plt.Axes(fig, [0., 0., 1., 1.])\n",
    "    ax.set_axis_off()\n",
    "    fig.add_axes(ax)\n",
    "    fig.set_size_inches((5,15))\n",
    "    ax.imshow(image[...,::-1])"
   ]
  },
  {
   "cell_type": "code",
   "execution_count": 62,
   "metadata": {},
   "outputs": [],
   "source": [
    "plt.savefig(\"C:/Users/Lenovo/Desktop/expand1/a.jpg\") "
   ]
  },
  {
   "cell_type": "code",
   "execution_count": 61,
   "metadata": {},
   "outputs": [],
   "source": [
    "show_output([result_coco.plot(), result_lp.plot(), result_merged.plot()])"
   ]
  },
  {
   "cell_type": "code",
   "execution_count": null,
   "metadata": {},
   "outputs": [],
   "source": [
    "# Save .pt of merged model\n",
    "model_2.ckpt = {\"model\": model_2.model}\n",
    "model_2.save(\"merged.pt\")\n",
    "\n",
    "# Load saved merged model. No additional steps required.\n",
    "model_2 = YOLO(\"merged.pt\")"
   ]
  }
 ],
 "metadata": {
  "kernelspec": {
   "display_name": "Python 3",
   "language": "python",
   "name": "python3"
  },
  "language_info": {
   "codemirror_mode": {
    "name": "ipython",
    "version": 3
   },
   "file_extension": ".py",
   "mimetype": "text/x-python",
   "name": "python",
   "nbconvert_exporter": "python",
   "pygments_lexer": "ipython3",
   "version": "3.12.3"
  }
 },
 "nbformat": 4,
 "nbformat_minor": 2
}
